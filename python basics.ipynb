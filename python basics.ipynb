{
 "cells": [
  {
   "cell_type": "markdown",
   "id": "dd0602d2",
   "metadata": {},
   "source": [
    "# if else"
   ]
  },
  {
   "cell_type": "code",
   "execution_count": null,
   "id": "5e85b02a",
   "metadata": {},
   "outputs": [],
   "source": [
    "age = int(input())\n",
    "if age>18:\n",
    "    if age>= 65:\n",
    "        print('Take care')\n",
    "    else:\n",
    "        print('You eligibe')\n",
    "        print('Drive slow')\n",
    "\n",
    "else:\n",
    "    print('Wait')"
   ]
  },
  {
   "cell_type": "code",
   "execution_count": null,
   "id": "a2ac6c73",
   "metadata": {},
   "outputs": [],
   "source": []
  },
  {
   "cell_type": "code",
   "execution_count": null,
   "id": "5ff43f5f",
   "metadata": {},
   "outputs": [],
   "source": [
    "# FIND MAX INN A LIST\n",
    "# GIVEN MARKS IN A LIST\n",
    "marks = [20,40,10,5,3,100]"
   ]
  },
  {
   "cell_type": "code",
   "execution_count": null,
   "id": "19e4f2fe",
   "metadata": {},
   "outputs": [],
   "source": [
    "highest = marks[0] # the very first student max score 0 is highest\n",
    "for i in marks:\n",
    "    if i > highest:\n",
    "        highest = i\n",
    "print(highest)"
   ]
  },
  {
   "cell_type": "code",
   "execution_count": null,
   "id": "64e08cd0",
   "metadata": {},
   "outputs": [],
   "source": [
    "# max function"
   ]
  },
  {
   "cell_type": "code",
   "execution_count": null,
   "id": "39f54700",
   "metadata": {},
   "outputs": [],
   "source": [
    "max(marks)"
   ]
  },
  {
   "cell_type": "code",
   "execution_count": null,
   "id": "e4e9c877",
   "metadata": {},
   "outputs": [],
   "source": [
    "min(marks)"
   ]
  },
  {
   "cell_type": "code",
   "execution_count": null,
   "id": "d20d848f",
   "metadata": {},
   "outputs": [],
   "source": []
  },
  {
   "cell_type": "markdown",
   "id": "63b56532",
   "metadata": {},
   "source": [
    "# Grading System"
   ]
  },
  {
   "cell_type": "code",
   "execution_count": null,
   "id": "4779b5e2",
   "metadata": {},
   "outputs": [],
   "source": [
    "# A: marks equal and above 90\n",
    "# B: marks equal to 80 and less then 90\n",
    "# C: marks equal to 70 and less then 80\n",
    "# D: marks equal to 60 and less then 70\n",
    "# E: Less then or 60"
   ]
  },
  {
   "cell_type": "code",
   "execution_count": 2,
   "id": "33126a37",
   "metadata": {},
   "outputs": [
    {
     "name": "stdout",
     "output_type": "stream",
     "text": [
      "49\n",
      "Grade E\n"
     ]
    }
   ],
   "source": [
    "marks = float(input())\n",
    "\n",
    "if marks >=90 and marks<=100:\n",
    "    print('A Grade')\n",
    "\n",
    "elif marks >=80 and marks < 90:\n",
    "    print('Grade B')\n",
    "\n",
    "elif marks >=70 and marks<80:\n",
    "        print('Grade C')\n",
    "\n",
    "elif marks >=60 and marks<70:\n",
    "        print('Grade D')\n",
    "elif marks<60:\n",
    "    print('Grade E')\n",
    "else:\n",
    "    print(\"INVALID\")"
   ]
  },
  {
   "cell_type": "code",
   "execution_count": 4,
   "id": "f1ec134a",
   "metadata": {},
   "outputs": [
    {
     "name": "stdout",
     "output_type": "stream",
     "text": [
      "1999\n",
      "0\n"
     ]
    }
   ],
   "source": [
    "A = int(input())\n",
    "if (A % 400 == 0) and (A % 100 == 0):\n",
    "    print(1)\n",
    "elif (A % 4 ==0) and (A % 100 != 0):\n",
    "    print(1)\n",
    "else:\n",
    "    print(0)\n"
   ]
  },
  {
   "cell_type": "code",
   "execution_count": null,
   "id": "03354603",
   "metadata": {},
   "outputs": [],
   "source": []
  },
  {
   "cell_type": "markdown",
   "id": "c2bd1897",
   "metadata": {},
   "source": [
    "# LOOP"
   ]
  },
  {
   "cell_type": "code",
   "execution_count": 40,
   "id": "e6008c78",
   "metadata": {},
   "outputs": [
    {
     "name": "stdout",
     "output_type": "stream",
     "text": [
      "12345678910"
     ]
    }
   ],
   "source": [
    "# print all no. 1 to 10\n",
    "i = 1\n",
    "#loop condition\n",
    "while i <=10:\n",
    "    print(i, end='')\n",
    "    i +=1"
   ]
  },
  {
   "cell_type": "code",
   "execution_count": 39,
   "id": "c785b162",
   "metadata": {},
   "outputs": [
    {
     "name": "stdout",
     "output_type": "stream",
     "text": [
      "You r best\n",
      "You r best\n",
      "You r best\n",
      "You r best\n",
      "You r best\n",
      "You r best\n",
      "You r best\n",
      "You r best\n",
      "You r best\n",
      "You r best\n"
     ]
    }
   ],
   "source": [
    "# print 10 times you r best\n",
    "i = 1\n",
    "#loop condition\n",
    "while i <= 10:\n",
    "    print('You r best')\n",
    "    i +=1"
   ]
  },
  {
   "cell_type": "code",
   "execution_count": 37,
   "id": "4655247e",
   "metadata": {},
   "outputs": [
    {
     "name": "stdout",
     "output_type": "stream",
     "text": [
      "0246810"
     ]
    }
   ],
   "source": [
    "# print all the even no. 1 to 10\n",
    "\n",
    "i =0\n",
    "while i<=10:\n",
    "    if i%2==0:\n",
    "        print(i, end='')\n",
    "    i +=1"
   ]
  },
  {
   "cell_type": "code",
   "execution_count": 46,
   "id": "68bcbab9",
   "metadata": {},
   "outputs": [
    {
     "name": "stdout",
     "output_type": "stream",
     "text": [
      "1,3,6,10,15,21,28,36,45,55,66,78,91,105,120,136,153,171,190,210,"
     ]
    }
   ],
   "source": [
    "# print sum of all numbers from 1 to 10\n",
    "\n",
    "i = 1\n",
    "j = 0\n",
    "while i<=20:\n",
    "    #print(i, end='')\n",
    "    j += i\n",
    "    print(j,end=',')\n",
    "    i +=1"
   ]
  },
  {
   "cell_type": "code",
   "execution_count": null,
   "id": "04e5e1bb",
   "metadata": {},
   "outputs": [],
   "source": []
  },
  {
   "cell_type": "markdown",
   "id": "00eff9de",
   "metadata": {},
   "source": [
    "# Range Function"
   ]
  },
  {
   "cell_type": "code",
   "execution_count": 53,
   "id": "83a37566",
   "metadata": {},
   "outputs": [
    {
     "data": {
      "text/plain": [
       "[0, 1, 2, 3, 4, 5]"
      ]
     },
     "execution_count": 53,
     "metadata": {},
     "output_type": "execute_result"
    }
   ],
   "source": [
    "range(5)\n",
    "list(range(6))"
   ]
  },
  {
   "cell_type": "code",
   "execution_count": 55,
   "id": "7be129f9",
   "metadata": {},
   "outputs": [
    {
     "data": {
      "text/plain": [
       "[0, 2, 4, 6, 8]"
      ]
     },
     "execution_count": 55,
     "metadata": {},
     "output_type": "execute_result"
    }
   ],
   "source": [
    "list(range(0,10,2))"
   ]
  },
  {
   "cell_type": "code",
   "execution_count": 61,
   "id": "8859b80a",
   "metadata": {},
   "outputs": [
    {
     "data": {
      "text/plain": [
       "[10, 9, 8, 7, 6, 5, 4, 3, 2]"
      ]
     },
     "execution_count": 61,
     "metadata": {},
     "output_type": "execute_result"
    }
   ],
   "source": [
    "list(range(10,1,-1))"
   ]
  },
  {
   "cell_type": "code",
   "execution_count": 62,
   "id": "42097c9c",
   "metadata": {},
   "outputs": [
    {
     "data": {
      "text/plain": [
       "[10, 9, 8, 7, 6, 5, 4, 3, 2, 1]"
      ]
     },
     "execution_count": 62,
     "metadata": {},
     "output_type": "execute_result"
    }
   ],
   "source": [
    "list(range(10,1-1,-1))"
   ]
  },
  {
   "cell_type": "code",
   "execution_count": null,
   "id": "4e0cd9d2",
   "metadata": {},
   "outputs": [],
   "source": []
  },
  {
   "cell_type": "markdown",
   "id": "30f1a988",
   "metadata": {},
   "source": [
    "# Iterator iterable and iteration"
   ]
  },
  {
   "cell_type": "code",
   "execution_count": 64,
   "id": "51056cdc",
   "metadata": {},
   "outputs": [
    {
     "name": "stdout",
     "output_type": "stream",
     "text": [
      "12345678910"
     ]
    }
   ],
   "source": [
    "for i in range(1,11):\n",
    "    print(i, end ='')\n",
    "    "
   ]
  },
  {
   "cell_type": "code",
   "execution_count": 69,
   "id": "ce18751f",
   "metadata": {},
   "outputs": [
    {
     "name": "stdout",
     "output_type": "stream",
     "text": [
      "2\n",
      "2\n",
      "4\n",
      "6\n",
      "8\n",
      "10\n",
      "12\n",
      "14\n",
      "16\n",
      "18\n",
      "20\n"
     ]
    }
   ],
   "source": [
    "#print multiplication table of 5\n",
    "n = int(input())\n",
    "for i in range(1,11):\n",
    "    print(i*n)"
   ]
  },
  {
   "cell_type": "code",
   "execution_count": null,
   "id": "fd7af9bc",
   "metadata": {},
   "outputs": [],
   "source": []
  },
  {
   "cell_type": "markdown",
   "id": "1f25ae1f",
   "metadata": {},
   "source": [
    "# Print Pattern"
   ]
  },
  {
   "cell_type": "code",
   "execution_count": 73,
   "id": "307f0f80",
   "metadata": {},
   "outputs": [
    {
     "name": "stdout",
     "output_type": "stream",
     "text": [
      "################"
     ]
    }
   ],
   "source": [
    "print # 4x4\n",
    "for i in range(4):\n",
    "    print('#',end='')\n",
    "for i in range(4):\n",
    "    print('#',end='')\n",
    "for i in range(4):\n",
    "    print('#',end='')\n",
    "for i in range(4):\n",
    "    print('#',end='')"
   ]
  },
  {
   "cell_type": "code",
   "execution_count": 76,
   "id": "10a90c7d",
   "metadata": {},
   "outputs": [
    {
     "name": "stdout",
     "output_type": "stream",
     "text": [
      "####\n",
      "####\n",
      "####\n",
      "####\n"
     ]
    }
   ],
   "source": [
    "for i in range(4):\n",
    "    print('#',end='')\n",
    "print()\n",
    "for i in range(4):\n",
    "    print('#',end='')\n",
    "print()\n",
    "\n",
    "for i in range(4):\n",
    "    print('#',end='')\n",
    "print()\n",
    "\n",
    "for i in range(4):\n",
    "    print('#',end='')\n",
    "print()\n"
   ]
  },
  {
   "cell_type": "code",
   "execution_count": 79,
   "id": "2d92fda9",
   "metadata": {},
   "outputs": [
    {
     "name": "stdout",
     "output_type": "stream",
     "text": [
      "####\n",
      "####\n",
      "####\n",
      "####\n"
     ]
    }
   ],
   "source": [
    "for i in range(4):\n",
    "    for j in range(4):\n",
    "        print('#',end='')\n",
    "    print()"
   ]
  },
  {
   "cell_type": "code",
   "execution_count": 87,
   "id": "521c517e",
   "metadata": {},
   "outputs": [
    {
     "name": "stdout",
     "output_type": "stream",
     "text": [
      "4\n",
      "#\n",
      "##\n",
      "###\n",
      "####\n"
     ]
    }
   ],
   "source": [
    "n = int(input())\n",
    "\n",
    "for i in range(1,n+1):\n",
    "    for j in range(i):\n",
    "        print('#',end = '')\n",
    "     #after printing every row go for next row   \n",
    "    print()"
   ]
  },
  {
   "cell_type": "markdown",
   "id": "e9c37040",
   "metadata": {},
   "source": [
    "# Break, Continue and Pass \n",
    "\n",
    "~ these statement use to alter the flow of a program\n",
    "~ Break : Breaks the flow of program once this conditions hit\n",
    "\n",
    "~ Continue : it skips that particular iterartion\n",
    "\n",
    "~ Pass : To Avoid syntax error"
   ]
  },
  {
   "cell_type": "code",
   "execution_count": 91,
   "id": "b1ad9a4b",
   "metadata": {},
   "outputs": [],
   "source": [
    "# Pass\n",
    "for i in range(1,10):\n",
    "    pass"
   ]
  },
  {
   "cell_type": "code",
   "execution_count": 92,
   "id": "d44f779a",
   "metadata": {},
   "outputs": [
    {
     "name": "stdout",
     "output_type": "stream",
     "text": [
      "1\n",
      "2\n",
      "3\n",
      "4\n",
      "6\n",
      "7\n",
      "8\n",
      "9\n"
     ]
    }
   ],
   "source": [
    "# Continue\n",
    "for i in range(1,10):\n",
    "    if i==5:\n",
    "        continue\n",
    "    print(i)"
   ]
  },
  {
   "cell_type": "code",
   "execution_count": 93,
   "id": "01f78ae6",
   "metadata": {},
   "outputs": [
    {
     "name": "stdout",
     "output_type": "stream",
     "text": [
      "1\n",
      "2\n",
      "3\n",
      "4\n"
     ]
    }
   ],
   "source": [
    "# Break\n",
    "for i in range(1,10):\n",
    "    if i ==5:\n",
    "        break\n",
    "    print(i)"
   ]
  },
  {
   "cell_type": "code",
   "execution_count": 95,
   "id": "b0d24ac8",
   "metadata": {},
   "outputs": [
    {
     "name": "stdout",
     "output_type": "stream",
     "text": [
      "1\n",
      "2\n",
      "3\n",
      "4\n"
     ]
    }
   ],
   "source": [
    "i = 1\n",
    "\n",
    "while i <10:\n",
    "    if i==5:\n",
    "        break\n",
    "    print(i)\n",
    "    \n",
    "    i +=1"
   ]
  },
  {
   "cell_type": "code",
   "execution_count": 101,
   "id": "ddfffcbb",
   "metadata": {},
   "outputs": [],
   "source": [
    "while i < 20:\n",
    "    print(i)\n",
    "    i += 1\n",
    "    continue"
   ]
  },
  {
   "cell_type": "code",
   "execution_count": 106,
   "id": "3f5cf687",
   "metadata": {},
   "outputs": [
    {
     "name": "stdout",
     "output_type": "stream",
     "text": [
      "21\n"
     ]
    }
   ],
   "source": [
    "dict = {\"x\":1,\"y\":2,\"z\":3,\"a\":4,\"b\":5,\"c\":6}\n",
    "sum = 0\n",
    "for i in dict.values():\n",
    "    sum += i\n",
    "print(sum)"
   ]
  },
  {
   "cell_type": "code",
   "execution_count": 103,
   "id": "aa751266",
   "metadata": {},
   "outputs": [
    {
     "ename": "NameError",
     "evalue": "name 'returnsum' is not defined",
     "output_type": "error",
     "traceback": [
      "\u001b[1;31m---------------------------------------------------------------------------\u001b[0m",
      "\u001b[1;31mNameError\u001b[0m                                 Traceback (most recent call last)",
      "Cell \u001b[1;32mIn[103], line 1\u001b[0m\n\u001b[1;32m----> 1\u001b[0m \u001b[43mreturnsum\u001b[49m(\u001b[38;5;241m1\u001b[39m,\u001b[38;5;241m2\u001b[39m,\u001b[38;5;241m3\u001b[39m,\u001b[38;5;241m4\u001b[39m,\u001b[38;5;241m5\u001b[39m,\u001b[38;5;241m6\u001b[39m)\n",
      "\u001b[1;31mNameError\u001b[0m: name 'returnsum' is not defined"
     ]
    }
   ],
   "source": [
    "returnsum(1,2,3,4,5,6)"
   ]
  },
  {
   "cell_type": "code",
   "execution_count": 107,
   "id": "acd5a827",
   "metadata": {},
   "outputs": [],
   "source": []
  },
  {
   "cell_type": "code",
   "execution_count": 113,
   "id": "c0497ee4",
   "metadata": {},
   "outputs": [
    {
     "name": "stdout",
     "output_type": "stream",
     "text": [
      "This is not a member of the dictionary\n"
     ]
    }
   ],
   "source": [
    "dict1 = {'age': 35, 'name': 'abc', 'salary': 45000}\n",
    "\n",
    "val = dict1['age']\n",
    "if val in dict1:\n",
    "    print('This is a member of the dictionary')\n",
    "else:\n",
    "    print('This is not a member of the dictionary')"
   ]
  },
  {
   "cell_type": "code",
   "execution_count": 114,
   "id": "e6d8dc7b",
   "metadata": {},
   "outputs": [],
   "source": [
    "freshers = {\n",
    "    'student1': {'name': 'yash', 'salary': 7500},\n",
    "    'student2': {'name': 'heet', 'salary': 8000},\n",
    "    'student3': {'name':'smit', 'salary': 6500}\n",
    "}"
   ]
  },
  {
   "cell_type": "code",
   "execution_count": 115,
   "id": "00ffb340",
   "metadata": {},
   "outputs": [
    {
     "data": {
      "text/plain": [
       "{'student1': {'name': 'yash', 'salary': 7500},\n",
       " 'student2': {'name': 'heet', 'salary': 8000},\n",
       " 'student3': {'name': 'smit', 'salary': 6500}}"
      ]
     },
     "execution_count": 115,
     "metadata": {},
     "output_type": "execute_result"
    }
   ],
   "source": [
    "freshers"
   ]
  },
  {
   "cell_type": "code",
   "execution_count": 116,
   "id": "dae8b194",
   "metadata": {},
   "outputs": [],
   "source": [
    "freshers['student3']['salary'] = 8500"
   ]
  },
  {
   "cell_type": "code",
   "execution_count": 117,
   "id": "3f5ed719",
   "metadata": {},
   "outputs": [
    {
     "data": {
      "text/plain": [
       "{'student1': {'name': 'yash', 'salary': 7500},\n",
       " 'student2': {'name': 'heet', 'salary': 8000},\n",
       " 'student3': {'name': 'smit', 'salary': 8500}}"
      ]
     },
     "execution_count": 117,
     "metadata": {},
     "output_type": "execute_result"
    }
   ],
   "source": [
    "freshers"
   ]
  },
  {
   "cell_type": "code",
   "execution_count": null,
   "id": "6066cc82",
   "metadata": {},
   "outputs": [],
   "source": []
  }
 ],
 "metadata": {
  "kernelspec": {
   "display_name": "Python 3 (ipykernel)",
   "language": "python",
   "name": "python3"
  },
  "language_info": {
   "codemirror_mode": {
    "name": "ipython",
    "version": 3
   },
   "file_extension": ".py",
   "mimetype": "text/x-python",
   "name": "python",
   "nbconvert_exporter": "python",
   "pygments_lexer": "ipython3",
   "version": "3.11.5"
  }
 },
 "nbformat": 4,
 "nbformat_minor": 5
}
