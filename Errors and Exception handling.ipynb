{
 "cells": [
  {
   "cell_type": "markdown",
   "id": "62243ad1",
   "metadata": {},
   "source": [
    "## Errors and Exception in Python\n",
    "\n",
    "When we write a faulty code the execution of program may stop due to errors\n",
    "\n",
    "There can be some places where exceptions can be caused\n",
    "\n",
    "Errors are caused by wrong syntax\n",
    "\n",
    "Exception are logic based wherein syntax is right but logi isn't. Ex: Zero division"
   ]
  },
  {
   "cell_type": "code",
   "execution_count": null,
   "id": "4579d153",
   "metadata": {},
   "outputs": [],
   "source": []
  },
  {
   "cell_type": "markdown",
   "id": "5f69e465",
   "metadata": {},
   "source": [
    "### Examples of errors\n",
    "\n",
    "Syntax error\n",
    "\n",
    "Name Error\n",
    "\n",
    "Type error\n",
    "\n",
    "file not found\n",
    "\n",
    "Indentation error\n",
    "\n",
    "Zero division error"
   ]
  },
  {
   "cell_type": "code",
   "execution_count": 5,
   "id": "f0cf3b5c",
   "metadata": {},
   "outputs": [
    {
     "name": "stdout",
     "output_type": "stream",
     "text": [
      "['ArithmeticError', 'AssertionError', 'AttributeError', 'BaseException', 'BaseExceptionGroup', 'BlockingIOError', 'BrokenPipeError', 'BufferError', 'BytesWarning', 'ChildProcessError', 'ConnectionAbortedError', 'ConnectionError', 'ConnectionRefusedError', 'ConnectionResetError', 'DeprecationWarning', 'EOFError', 'Ellipsis', 'EncodingWarning', 'EnvironmentError', 'Exception', 'ExceptionGroup', 'False', 'FileExistsError', 'FileNotFoundError', 'FloatingPointError', 'FutureWarning', 'GeneratorExit', 'IOError', 'ImportError', 'ImportWarning', 'IndentationError', 'IndexError', 'InterruptedError', 'IsADirectoryError', 'KeyError', 'KeyboardInterrupt', 'LookupError', 'MemoryError', 'ModuleNotFoundError', 'NameError', 'None', 'NotADirectoryError', 'NotImplemented', 'NotImplementedError', 'OSError', 'OverflowError', 'PendingDeprecationWarning', 'PermissionError', 'ProcessLookupError', 'RecursionError', 'ReferenceError', 'ResourceWarning', 'RuntimeError', 'RuntimeWarning', 'StopAsyncIteration', 'StopIteration', 'SyntaxError', 'SyntaxWarning', 'SystemError', 'SystemExit', 'TabError', 'TimeoutError', 'True', 'TypeError', 'UnboundLocalError', 'UnicodeDecodeError', 'UnicodeEncodeError', 'UnicodeError', 'UnicodeTranslateError', 'UnicodeWarning', 'UserWarning', 'ValueError', 'Warning', 'WindowsError', 'ZeroDivisionError', '__IPYTHON__', '__build_class__', '__debug__', '__doc__', '__import__', '__loader__', '__name__', '__package__', '__spec__', 'abs', 'aiter', 'all', 'anext', 'any', 'ascii', 'bin', 'bool', 'breakpoint', 'bytearray', 'bytes', 'callable', 'chr', 'classmethod', 'compile', 'complex', 'copyright', 'credits', 'delattr', 'dict', 'dir', 'display', 'divmod', 'enumerate', 'eval', 'exec', 'execfile', 'filter', 'float', 'format', 'frozenset', 'get_ipython', 'getattr', 'globals', 'hasattr', 'hash', 'help', 'hex', 'id', 'input', 'int', 'isinstance', 'issubclass', 'iter', 'len', 'license', 'list', 'locals', 'map', 'max', 'memoryview', 'min', 'next', 'object', 'oct', 'open', 'ord', 'pow', 'print', 'property', 'range', 'repr', 'reversed', 'round', 'runfile', 'set', 'setattr', 'slice', 'sorted', 'staticmethod', 'str', 'sum', 'super', 'tuple', 'type', 'vars', 'zip']\n"
     ]
    }
   ],
   "source": [
    "# All the inbuilt errors\n",
    "\n",
    "print(dir(__builtins__))"
   ]
  },
  {
   "cell_type": "code",
   "execution_count": null,
   "id": "66d24d31",
   "metadata": {},
   "outputs": [],
   "source": []
  },
  {
   "cell_type": "markdown",
   "id": "e82b404d",
   "metadata": {},
   "source": [
    "### Try and Except\n",
    "\n",
    "Try : This block handles the error in your code if any of it exists.\n",
    "\n",
    "Except: This block gives the output that you want to show if your code is faulty.\n"
   ]
  },
  {
   "cell_type": "code",
   "execution_count": 11,
   "id": "33ddf59e",
   "metadata": {},
   "outputs": [
    {
     "name": "stdout",
     "output_type": "stream",
     "text": [
      "There is an error \n",
      "\n",
      "Hello beautiful\n"
     ]
    }
   ],
   "source": [
    "a = 5\n",
    "b = 0\n",
    "\n",
    "# put the suspect code in try block\n",
    "try:\n",
    "    print(a/b)\n",
    "except:\n",
    "    print(\"There is an error \\n\")\n",
    "\n",
    "\n",
    "\n",
    "print(\"Hello beautiful\")"
   ]
  },
  {
   "cell_type": "code",
   "execution_count": 15,
   "id": "7f7396c4",
   "metadata": {},
   "outputs": [
    {
     "name": "stdout",
     "output_type": "stream",
     "text": [
      "There is an error : can only concatenate str (not \"int\") to str\n",
      "Hello beautiful\n"
     ]
    }
   ],
   "source": [
    "a = 5\n",
    "b = 0\n",
    "\n",
    "# put the suspect code in try block\n",
    "try:\n",
    "    print(\"2\"+2)\n",
    "except Exception as e:\n",
    "    \n",
    "    print(\"There is an error :\", e)\n",
    "\n",
    "\n",
    "\n",
    "print(\"Hello beautiful\")"
   ]
  },
  {
   "cell_type": "code",
   "execution_count": 17,
   "id": "5962310e",
   "metadata": {},
   "outputs": [
    {
     "name": "stdout",
     "output_type": "stream",
     "text": [
      "There is an error : division by zero\n",
      "\n",
      " Hello beautiful\n"
     ]
    }
   ],
   "source": [
    "a = 5\n",
    "b = 0\n",
    "\n",
    "# put the suspect code in try block\n",
    "try:\n",
    "    print(a/b)\n",
    "except Exception as e:\n",
    "    \n",
    "    print(\"There is an error :\", e)\n",
    "\n",
    "\n",
    "\n",
    "print(\"\\n Hello beautiful\")"
   ]
  },
  {
   "cell_type": "code",
   "execution_count": null,
   "id": "a3ef528c",
   "metadata": {},
   "outputs": [],
   "source": []
  },
  {
   "cell_type": "markdown",
   "id": "aa7a1b5d",
   "metadata": {},
   "source": [
    "### Finally\n",
    "\n",
    "This Block will be executed in any case\n",
    "\n",
    "It is helpful when you want to de-allocate resource\n",
    "\n",
    "Like closing a file, or db Connection"
   ]
  },
  {
   "cell_type": "code",
   "execution_count": 19,
   "id": "38bb237b",
   "metadata": {},
   "outputs": [
    {
     "name": "stdout",
     "output_type": "stream",
     "text": [
      "open file\n",
      "Error division by zero\n"
     ]
    }
   ],
   "source": [
    "a = 5\n",
    "b = 0\n",
    "\n",
    "try:\n",
    "    print(\"open file\")\n",
    "    print(a/b)\n",
    "    print(\"close file\")\n",
    "    \n",
    "except Exception as e:\n",
    "    print(\"Error\", e)"
   ]
  },
  {
   "cell_type": "code",
   "execution_count": 21,
   "id": "96b3d0aa",
   "metadata": {},
   "outputs": [
    {
     "name": "stdout",
     "output_type": "stream",
     "text": [
      "open file\n",
      "Error division by zero\n",
      "close file\n"
     ]
    }
   ],
   "source": [
    "a = 5\n",
    "b = 0\n",
    "\n",
    "try:\n",
    "    print(\"open file\")\n",
    "    print(a/b)\n",
    "    \n",
    "except Exception as e:\n",
    "    print(\"Error\", e)\n",
    "    print(\"close file\")\n",
    "# not the right way to write code"
   ]
  },
  {
   "cell_type": "code",
   "execution_count": 26,
   "id": "4c08b358",
   "metadata": {},
   "outputs": [
    {
     "name": "stdout",
     "output_type": "stream",
     "text": [
      "open file\n",
      "5.0\n",
      "close file\n"
     ]
    }
   ],
   "source": [
    "a = 5\n",
    "b = 1\n",
    "\n",
    "try:\n",
    "    print(\"open file\")\n",
    "    print(a/b)\n",
    "    \n",
    "except Exception as e:\n",
    "    print(\"Error\", e)\n",
    "\n",
    "finally:\n",
    "    print(\"close file\")"
   ]
  },
  {
   "cell_type": "code",
   "execution_count": null,
   "id": "7bf94fe4",
   "metadata": {},
   "outputs": [],
   "source": []
  }
 ],
 "metadata": {
  "kernelspec": {
   "display_name": "Python 3 (ipykernel)",
   "language": "python",
   "name": "python3"
  },
  "language_info": {
   "codemirror_mode": {
    "name": "ipython",
    "version": 3
   },
   "file_extension": ".py",
   "mimetype": "text/x-python",
   "name": "python",
   "nbconvert_exporter": "python",
   "pygments_lexer": "ipython3",
   "version": "3.11.5"
  }
 },
 "nbformat": 4,
 "nbformat_minor": 5
}
