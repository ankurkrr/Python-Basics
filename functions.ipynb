{
 "cells": [
  {
   "cell_type": "markdown",
   "id": "b5170550",
   "metadata": {},
   "source": [
    "# Functions\n",
    "\n",
    "Function is a user defined piece of code. It works only when it's called by user. It helps in reusablity of code and helps in reducing errors in your code. Example: Print, range etc.\n",
    "\n",
    "Helps in reusability of code\n",
    "\n",
    "Make Code manageable and organized\n",
    "\n",
    "\n",
    "\n",
    "Functions are of Two Types:-\n",
    "\n",
    "user defined\n",
    "\n",
    "Built-in\n",
    "\n"
   ]
  },
  {
   "cell_type": "code",
   "execution_count": null,
   "id": "c7ef7d9c",
   "metadata": {},
   "outputs": [],
   "source": []
  },
  {
   "cell_type": "markdown",
   "id": "18a83ff1",
   "metadata": {},
   "source": [
    "# Defining Function"
   ]
  },
  {
   "cell_type": "code",
   "execution_count": 1,
   "id": "7fdaa161",
   "metadata": {},
   "outputs": [],
   "source": [
    "def greet():\n",
    "    #This is body of the function\n",
    "    print(\"Hey Good Morning\")"
   ]
  },
  {
   "cell_type": "code",
   "execution_count": 5,
   "id": "4e51c785",
   "metadata": {},
   "outputs": [
    {
     "name": "stdout",
     "output_type": "stream",
     "text": [
      "Hey Good Morning\n"
     ]
    }
   ],
   "source": [
    "greet()"
   ]
  },
  {
   "cell_type": "code",
   "execution_count": null,
   "id": "6683b912",
   "metadata": {},
   "outputs": [],
   "source": []
  },
  {
   "cell_type": "markdown",
   "id": "f6ee4914",
   "metadata": {},
   "source": [
    "## Docstring"
   ]
  },
  {
   "cell_type": "code",
   "execution_count": 10,
   "id": "0e0be352",
   "metadata": {},
   "outputs": [],
   "source": [
    "#Additional definition of a funtion"
   ]
  },
  {
   "cell_type": "code",
   "execution_count": 11,
   "id": "114d6ebf",
   "metadata": {},
   "outputs": [],
   "source": [
    "def greet():\n",
    "    \"\"\"This funtion greets everyone when it is called\"\"\"\n",
    "    #This is body of the function\n",
    "    print(\"Hey Good Morning\")"
   ]
  },
  {
   "cell_type": "code",
   "execution_count": 12,
   "id": "54244263",
   "metadata": {},
   "outputs": [],
   "source": [
    "greet?"
   ]
  },
  {
   "cell_type": "code",
   "execution_count": null,
   "id": "dd56619b",
   "metadata": {},
   "outputs": [],
   "source": []
  },
  {
   "cell_type": "code",
   "execution_count": null,
   "id": "63c1f950",
   "metadata": {},
   "outputs": [],
   "source": []
  },
  {
   "cell_type": "markdown",
   "id": "13519378",
   "metadata": {},
   "source": [
    "# Parameters\n",
    "These are place holders in the function.\n",
    "\n",
    "When defining them we call them as Parameters\n",
    "\n",
    "\n",
    "When passing the actual value we call them as Arguments"
   ]
  },
  {
   "cell_type": "code",
   "execution_count": 26,
   "id": "3dff3e46",
   "metadata": {},
   "outputs": [],
   "source": [
    "def greet(name):\n",
    "    \"\"\"This funtion greets everyone when it is called\"\"\"\n",
    "    #This is body of the function\n",
    "    print(\"Hey, Good Morning!!\",name)"
   ]
  },
  {
   "cell_type": "code",
   "execution_count": 27,
   "id": "1ab2a607",
   "metadata": {},
   "outputs": [
    {
     "ename": "TypeError",
     "evalue": "greet() missing 1 required positional argument: 'name'",
     "output_type": "error",
     "traceback": [
      "\u001b[1;31m---------------------------------------------------------------------------\u001b[0m",
      "\u001b[1;31mTypeError\u001b[0m                                 Traceback (most recent call last)",
      "Cell \u001b[1;32mIn[27], line 1\u001b[0m\n\u001b[1;32m----> 1\u001b[0m \u001b[43mgreet\u001b[49m\u001b[43m(\u001b[49m\u001b[43m)\u001b[49m\n",
      "\u001b[1;31mTypeError\u001b[0m: greet() missing 1 required positional argument: 'name'"
     ]
    }
   ],
   "source": [
    "greet()"
   ]
  },
  {
   "cell_type": "code",
   "execution_count": 28,
   "id": "60bc3230",
   "metadata": {},
   "outputs": [
    {
     "name": "stdout",
     "output_type": "stream",
     "text": [
      "Hey, Good Morning!! Ankur\n"
     ]
    }
   ],
   "source": [
    "greet('Ankur')"
   ]
  },
  {
   "cell_type": "code",
   "execution_count": 29,
   "id": "a6cbf650",
   "metadata": {},
   "outputs": [
    {
     "name": "stdout",
     "output_type": "stream",
     "text": [
      "Hey, Good Morning!! Rahul\n"
     ]
    }
   ],
   "source": [
    "greet('Rahul')"
   ]
  },
  {
   "cell_type": "code",
   "execution_count": null,
   "id": "569a715b",
   "metadata": {},
   "outputs": [],
   "source": []
  },
  {
   "cell_type": "code",
   "execution_count": 30,
   "id": "7198f728",
   "metadata": {},
   "outputs": [],
   "source": [
    "def add(a,b):\n",
    "    c=a+b\n",
    "    print(c)"
   ]
  },
  {
   "cell_type": "code",
   "execution_count": 35,
   "id": "950a39f1",
   "metadata": {},
   "outputs": [
    {
     "name": "stdout",
     "output_type": "stream",
     "text": [
      "5\n"
     ]
    }
   ],
   "source": [
    "add(2,3)"
   ]
  },
  {
   "cell_type": "code",
   "execution_count": null,
   "id": "4cebbe85",
   "metadata": {},
   "outputs": [],
   "source": []
  },
  {
   "cell_type": "code",
   "execution_count": null,
   "id": "6a14b816",
   "metadata": {},
   "outputs": [],
   "source": []
  },
  {
   "cell_type": "markdown",
   "id": "5a4c1ba2",
   "metadata": {},
   "source": [
    "## Return\n",
    "\n",
    "A function call ends when return statement is executed\n",
    "\n",
    "It returns expression back to the function\n",
    "\n",
    "The code after return statement are not executed\n",
    "\n",
    "If there is no return value then function returns None"
   ]
  },
  {
   "cell_type": "code",
   "execution_count": 47,
   "id": "b2f8e8cc",
   "metadata": {},
   "outputs": [],
   "source": [
    "def add(a,b):\n",
    "    c=a+b\n",
    "    print(c)"
   ]
  },
  {
   "cell_type": "code",
   "execution_count": 48,
   "id": "a9399eb3",
   "metadata": {},
   "outputs": [
    {
     "name": "stdout",
     "output_type": "stream",
     "text": [
      "7\n"
     ]
    }
   ],
   "source": [
    "a = add(3,4)"
   ]
  },
  {
   "cell_type": "code",
   "execution_count": 49,
   "id": "ecb8eeca",
   "metadata": {},
   "outputs": [
    {
     "data": {
      "text/plain": [
       "NoneType"
      ]
     },
     "execution_count": 49,
     "metadata": {},
     "output_type": "execute_result"
    }
   ],
   "source": [
    "type(a)"
   ]
  },
  {
   "cell_type": "code",
   "execution_count": 50,
   "id": "aea5c917",
   "metadata": {},
   "outputs": [],
   "source": [
    "def add(a,b):\n",
    "    c=a+b\n",
    "    return c"
   ]
  },
  {
   "cell_type": "code",
   "execution_count": 51,
   "id": "3f4130ea",
   "metadata": {},
   "outputs": [],
   "source": [
    "b = add(3,7)"
   ]
  },
  {
   "cell_type": "code",
   "execution_count": 53,
   "id": "5837794b",
   "metadata": {},
   "outputs": [
    {
     "name": "stdout",
     "output_type": "stream",
     "text": [
      "10 <class 'int'>\n"
     ]
    }
   ],
   "source": [
    "print(b,type(b))"
   ]
  },
  {
   "cell_type": "code",
   "execution_count": null,
   "id": "234be69f",
   "metadata": {},
   "outputs": [],
   "source": []
  },
  {
   "cell_type": "code",
   "execution_count": null,
   "id": "aa5e5b43",
   "metadata": {},
   "outputs": [],
   "source": []
  },
  {
   "cell_type": "code",
   "execution_count": 54,
   "id": "af63725c",
   "metadata": {},
   "outputs": [],
   "source": [
    "# If no return object then it returns Nonetype"
   ]
  },
  {
   "cell_type": "code",
   "execution_count": 55,
   "id": "0acb16d5",
   "metadata": {},
   "outputs": [],
   "source": [
    "def func():\n",
    "    return"
   ]
  },
  {
   "cell_type": "code",
   "execution_count": 56,
   "id": "72e8791d",
   "metadata": {},
   "outputs": [
    {
     "data": {
      "text/plain": [
       "<function __main__.func()>"
      ]
     },
     "execution_count": 56,
     "metadata": {},
     "output_type": "execute_result"
    }
   ],
   "source": [
    "func"
   ]
  },
  {
   "cell_type": "code",
   "execution_count": 57,
   "id": "9788a85c",
   "metadata": {},
   "outputs": [
    {
     "name": "stdout",
     "output_type": "stream",
     "text": [
      "None <class 'NoneType'>\n"
     ]
    }
   ],
   "source": [
    "c = func()\n",
    "print(c,type(c))"
   ]
  },
  {
   "cell_type": "code",
   "execution_count": null,
   "id": "3e6419c2",
   "metadata": {},
   "outputs": [],
   "source": []
  },
  {
   "cell_type": "code",
   "execution_count": 59,
   "id": "a15aa5c7",
   "metadata": {},
   "outputs": [],
   "source": [
    "#Code after returning statement dosen't get executed"
   ]
  },
  {
   "cell_type": "code",
   "execution_count": 63,
   "id": "c3a263a0",
   "metadata": {},
   "outputs": [],
   "source": [
    "def func():\n",
    "    print(\"Before Return\")\n",
    "    return 'Ankur'\n",
    "    print(\"After return\")"
   ]
  },
  {
   "cell_type": "code",
   "execution_count": 64,
   "id": "90a6a2c1",
   "metadata": {},
   "outputs": [
    {
     "name": "stdout",
     "output_type": "stream",
     "text": [
      "Before Return\n"
     ]
    },
    {
     "data": {
      "text/plain": [
       "'Ankur'"
      ]
     },
     "execution_count": 64,
     "metadata": {},
     "output_type": "execute_result"
    }
   ],
   "source": [
    "func()"
   ]
  },
  {
   "cell_type": "code",
   "execution_count": 65,
   "id": "7859e130",
   "metadata": {},
   "outputs": [
    {
     "name": "stdout",
     "output_type": "stream",
     "text": [
      "Before Return\n"
     ]
    }
   ],
   "source": [
    "a = func()"
   ]
  },
  {
   "cell_type": "code",
   "execution_count": 66,
   "id": "5e1f1976",
   "metadata": {},
   "outputs": [
    {
     "data": {
      "text/plain": [
       "'Ankur'"
      ]
     },
     "execution_count": 66,
     "metadata": {},
     "output_type": "execute_result"
    }
   ],
   "source": [
    "a"
   ]
  },
  {
   "cell_type": "code",
   "execution_count": null,
   "id": "4a90a3f2",
   "metadata": {},
   "outputs": [],
   "source": []
  },
  {
   "cell_type": "code",
   "execution_count": null,
   "id": "3a01ada3",
   "metadata": {},
   "outputs": [],
   "source": []
  },
  {
   "cell_type": "markdown",
   "id": "075cb0b3",
   "metadata": {},
   "source": [
    "### Returning Multiple Values"
   ]
  },
  {
   "cell_type": "code",
   "execution_count": 68,
   "id": "fe6c8cac",
   "metadata": {},
   "outputs": [],
   "source": [
    "def intro(name,age,hobby):\n",
    "    return name,age,hobby"
   ]
  },
  {
   "cell_type": "code",
   "execution_count": 71,
   "id": "1434f4e1",
   "metadata": {},
   "outputs": [],
   "source": [
    "c,d,e = intro(\"Ankur\",\"25\",\"Travelling\")"
   ]
  },
  {
   "cell_type": "code",
   "execution_count": 72,
   "id": "54d39654",
   "metadata": {},
   "outputs": [
    {
     "data": {
      "text/plain": [
       "'Ankur'"
      ]
     },
     "execution_count": 72,
     "metadata": {},
     "output_type": "execute_result"
    }
   ],
   "source": [
    "c"
   ]
  },
  {
   "cell_type": "code",
   "execution_count": 73,
   "id": "d162f374",
   "metadata": {},
   "outputs": [
    {
     "data": {
      "text/plain": [
       "'25'"
      ]
     },
     "execution_count": 73,
     "metadata": {},
     "output_type": "execute_result"
    }
   ],
   "source": [
    "d"
   ]
  },
  {
   "cell_type": "code",
   "execution_count": 74,
   "id": "46bb3143",
   "metadata": {},
   "outputs": [
    {
     "data": {
      "text/plain": [
       "'Travelling'"
      ]
     },
     "execution_count": 74,
     "metadata": {},
     "output_type": "execute_result"
    }
   ],
   "source": [
    "e"
   ]
  },
  {
   "cell_type": "code",
   "execution_count": 75,
   "id": "fac4850a",
   "metadata": {},
   "outputs": [
    {
     "name": "stdout",
     "output_type": "stream",
     "text": [
      "Ankur 25 Travelling\n"
     ]
    }
   ],
   "source": [
    "print(c,d,e)"
   ]
  },
  {
   "cell_type": "code",
   "execution_count": 76,
   "id": "d824f944",
   "metadata": {},
   "outputs": [],
   "source": [
    "c = intro(\"Ankur\",\"25\",\"Cricket\")"
   ]
  },
  {
   "cell_type": "code",
   "execution_count": 78,
   "id": "a2ab1249",
   "metadata": {},
   "outputs": [
    {
     "name": "stdout",
     "output_type": "stream",
     "text": [
      "('Ankur', '25', 'Cricket') <class 'tuple'>\n"
     ]
    }
   ],
   "source": [
    "print(c,type(c))"
   ]
  },
  {
   "cell_type": "code",
   "execution_count": null,
   "id": "b70bda67",
   "metadata": {},
   "outputs": [],
   "source": []
  },
  {
   "cell_type": "code",
   "execution_count": null,
   "id": "0c7507e2",
   "metadata": {},
   "outputs": [],
   "source": []
  },
  {
   "cell_type": "markdown",
   "id": "3bad64b4",
   "metadata": {},
   "source": [
    "# Scope of Variable\n",
    "\n",
    "There are two scope of a variable: Global and Local\n",
    "    \n",
    "Global variable can be used anywhere in a program\n",
    "\n",
    "Local Variable can only be used locally inside a program(Function)"
   ]
  },
  {
   "cell_type": "code",
   "execution_count": 83,
   "id": "ba10feef",
   "metadata": {},
   "outputs": [
    {
     "name": "stdout",
     "output_type": "stream",
     "text": [
      "5\n",
      "5\n"
     ]
    }
   ],
   "source": [
    "# a can be used anywhere in program\n",
    "a = 5\n",
    "def func():\n",
    "    print(a)\n",
    "    \n",
    "func()\n",
    "print(a)"
   ]
  },
  {
   "cell_type": "code",
   "execution_count": 84,
   "id": "40507b25",
   "metadata": {},
   "outputs": [
    {
     "data": {
      "text/plain": [
       "5"
      ]
     },
     "execution_count": 84,
     "metadata": {},
     "output_type": "execute_result"
    }
   ],
   "source": [
    "a"
   ]
  },
  {
   "cell_type": "code",
   "execution_count": null,
   "id": "fb33326b",
   "metadata": {},
   "outputs": [],
   "source": []
  },
  {
   "cell_type": "code",
   "execution_count": 90,
   "id": "8d3b0b35",
   "metadata": {},
   "outputs": [
    {
     "name": "stdout",
     "output_type": "stream",
     "text": [
      "3\n",
      "5\n"
     ]
    },
    {
     "ename": "NameError",
     "evalue": "name 'x' is not defined",
     "output_type": "error",
     "traceback": [
      "\u001b[1;31m---------------------------------------------------------------------------\u001b[0m",
      "\u001b[1;31mNameError\u001b[0m                                 Traceback (most recent call last)",
      "Cell \u001b[1;32mIn[90], line 9\u001b[0m\n\u001b[0;32m      7\u001b[0m func()\n\u001b[0;32m      8\u001b[0m \u001b[38;5;28mprint\u001b[39m(a)\n\u001b[1;32m----> 9\u001b[0m \u001b[38;5;28mprint\u001b[39m(\u001b[43mx\u001b[49m)\n",
      "\u001b[1;31mNameError\u001b[0m: name 'x' is not defined"
     ]
    }
   ],
   "source": [
    "a = 5\n",
    "def func():\n",
    "    # x is a local variable to this func\n",
    "    x =3\n",
    "    print(x)\n",
    "    \n",
    "func()\n",
    "print(a)\n",
    "print(x)"
   ]
  },
  {
   "cell_type": "code",
   "execution_count": null,
   "id": "885f2125",
   "metadata": {},
   "outputs": [],
   "source": []
  },
  {
   "cell_type": "code",
   "execution_count": 95,
   "id": "58c20441",
   "metadata": {},
   "outputs": [
    {
     "name": "stdout",
     "output_type": "stream",
     "text": [
      "20\n",
      "5\n"
     ]
    }
   ],
   "source": [
    "a = 5 \n",
    "\n",
    "def func():\n",
    "    a = 20\n",
    "    print(a)\n",
    "    \n",
    "func()\n",
    "print(a)"
   ]
  },
  {
   "cell_type": "code",
   "execution_count": null,
   "id": "e274a5ab",
   "metadata": {},
   "outputs": [],
   "source": []
  },
  {
   "cell_type": "code",
   "execution_count": null,
   "id": "55d68a79",
   "metadata": {},
   "outputs": [],
   "source": []
  },
  {
   "cell_type": "code",
   "execution_count": 100,
   "id": "af37ce41",
   "metadata": {},
   "outputs": [
    {
     "name": "stdout",
     "output_type": "stream",
     "text": [
      "5\n",
      "20\n",
      "20\n"
     ]
    }
   ],
   "source": [
    "a = 5\n",
    "\n",
    "def func():\n",
    "    global a\n",
    "    a = 20\n",
    "    print(a)\n",
    "    \n",
    "print(a)\n",
    "func()\n",
    "print(a)"
   ]
  },
  {
   "cell_type": "code",
   "execution_count": null,
   "id": "7efa5f58",
   "metadata": {},
   "outputs": [],
   "source": []
  },
  {
   "cell_type": "markdown",
   "id": "8221cb56",
   "metadata": {},
   "source": [
    "# Lamda Function\n",
    "\n",
    "These are mainly used when we need nameless functions for short period of time."
   ]
  },
  {
   "cell_type": "code",
   "execution_count": 101,
   "id": "ba56c5cc",
   "metadata": {},
   "outputs": [],
   "source": [
    "def add(a,b):\n",
    "    return a+b"
   ]
  },
  {
   "cell_type": "code",
   "execution_count": 102,
   "id": "58f46c2a",
   "metadata": {},
   "outputs": [
    {
     "data": {
      "text/plain": [
       "7"
      ]
     },
     "execution_count": 102,
     "metadata": {},
     "output_type": "execute_result"
    }
   ],
   "source": [
    "add(3,4)"
   ]
  },
  {
   "cell_type": "code",
   "execution_count": null,
   "id": "f0ce36d6",
   "metadata": {},
   "outputs": [],
   "source": []
  },
  {
   "cell_type": "code",
   "execution_count": 104,
   "id": "28297b10",
   "metadata": {},
   "outputs": [
    {
     "data": {
      "text/plain": [
       "7"
      ]
     },
     "execution_count": 104,
     "metadata": {},
     "output_type": "execute_result"
    }
   ],
   "source": [
    "(lambda a, b: a+b)(3,4)"
   ]
  },
  {
   "cell_type": "code",
   "execution_count": 105,
   "id": "d4610060",
   "metadata": {},
   "outputs": [],
   "source": [
    "func = lambda a,b : a+b"
   ]
  },
  {
   "cell_type": "code",
   "execution_count": 106,
   "id": "81064f76",
   "metadata": {},
   "outputs": [
    {
     "data": {
      "text/plain": [
       "function"
      ]
     },
     "execution_count": 106,
     "metadata": {},
     "output_type": "execute_result"
    }
   ],
   "source": [
    "type(func)"
   ]
  },
  {
   "cell_type": "code",
   "execution_count": 107,
   "id": "0565cd89",
   "metadata": {},
   "outputs": [
    {
     "data": {
      "text/plain": [
       "9"
      ]
     },
     "execution_count": 107,
     "metadata": {},
     "output_type": "execute_result"
    }
   ],
   "source": [
    "func(5,4)"
   ]
  },
  {
   "cell_type": "code",
   "execution_count": 108,
   "id": "e268af2a",
   "metadata": {},
   "outputs": [],
   "source": [
    "def larger(a,b):\n",
    "    if a>b:\n",
    "        return a\n",
    "    else:\n",
    "        return b"
   ]
  },
  {
   "cell_type": "code",
   "execution_count": 112,
   "id": "82665ef5",
   "metadata": {},
   "outputs": [
    {
     "data": {
      "text/plain": [
       "90"
      ]
     },
     "execution_count": 112,
     "metadata": {},
     "output_type": "execute_result"
    }
   ],
   "source": [
    "larger(90,55)"
   ]
  },
  {
   "cell_type": "code",
   "execution_count": 115,
   "id": "35259ca2",
   "metadata": {},
   "outputs": [
    {
     "data": {
      "text/plain": [
       "67"
      ]
     },
     "execution_count": 115,
     "metadata": {},
     "output_type": "execute_result"
    }
   ],
   "source": [
    "(lambda a,b : a if a>b else b)(54,67)"
   ]
  },
  {
   "cell_type": "code",
   "execution_count": 116,
   "id": "2a37c40a",
   "metadata": {},
   "outputs": [],
   "source": [
    "large = lambda a,b : a if a>b else b"
   ]
  },
  {
   "cell_type": "code",
   "execution_count": 117,
   "id": "20c58730",
   "metadata": {},
   "outputs": [
    {
     "data": {
      "text/plain": [
       "84"
      ]
     },
     "execution_count": 117,
     "metadata": {},
     "output_type": "execute_result"
    }
   ],
   "source": [
    "large(67,84)"
   ]
  },
  {
   "cell_type": "code",
   "execution_count": 118,
   "id": "cae9e5a8",
   "metadata": {},
   "outputs": [],
   "source": [
    "lst = [(12,56),(2,4),(5,3)]"
   ]
  },
  {
   "cell_type": "code",
   "execution_count": 119,
   "id": "35fe4061",
   "metadata": {},
   "outputs": [],
   "source": [
    "lst.sort()"
   ]
  },
  {
   "cell_type": "code",
   "execution_count": 120,
   "id": "50da66b6",
   "metadata": {},
   "outputs": [
    {
     "data": {
      "text/plain": [
       "[(2, 4), (5, 3), (12, 56)]"
      ]
     },
     "execution_count": 120,
     "metadata": {},
     "output_type": "execute_result"
    }
   ],
   "source": [
    "lst"
   ]
  },
  {
   "cell_type": "code",
   "execution_count": null,
   "id": "a6b8f4fc",
   "metadata": {},
   "outputs": [],
   "source": []
  },
  {
   "cell_type": "code",
   "execution_count": 143,
   "id": "6de43199",
   "metadata": {},
   "outputs": [],
   "source": [
    "def k(x):\n",
    "    return x[1]"
   ]
  },
  {
   "cell_type": "code",
   "execution_count": 144,
   "id": "fc2bd5ed",
   "metadata": {},
   "outputs": [],
   "source": [
    "lst.sort(key=k)"
   ]
  },
  {
   "cell_type": "code",
   "execution_count": 145,
   "id": "e9a29b37",
   "metadata": {},
   "outputs": [
    {
     "data": {
      "text/plain": [
       "[(5, 3), (2, 4), (12, 56)]"
      ]
     },
     "execution_count": 145,
     "metadata": {},
     "output_type": "execute_result"
    }
   ],
   "source": [
    "lst"
   ]
  },
  {
   "cell_type": "code",
   "execution_count": null,
   "id": "fa063e7c",
   "metadata": {},
   "outputs": [],
   "source": []
  },
  {
   "cell_type": "code",
   "execution_count": 147,
   "id": "cb2c6e05",
   "metadata": {},
   "outputs": [],
   "source": [
    "lst = lst.sort(key= lambda x: x[1])"
   ]
  },
  {
   "cell_type": "code",
   "execution_count": 148,
   "id": "e2e5654a",
   "metadata": {},
   "outputs": [],
   "source": [
    "lst"
   ]
  },
  {
   "cell_type": "code",
   "execution_count": null,
   "id": "1e3119f1",
   "metadata": {},
   "outputs": [],
   "source": []
  },
  {
   "cell_type": "code",
   "execution_count": null,
   "id": "d7b21138",
   "metadata": {},
   "outputs": [],
   "source": []
  },
  {
   "cell_type": "markdown",
   "id": "f5474fda",
   "metadata": {},
   "source": [
    "# Challenge:\n",
    "Write python function to print the even numbers from a given list.\n",
    "\n",
    "input = [1,2,3,4,5,6]\n",
    "output = 2,4,6"
   ]
  },
  {
   "cell_type": "code",
   "execution_count": 149,
   "id": "89df1c95",
   "metadata": {},
   "outputs": [],
   "source": [
    "def even(l1):\n",
    "    for i in l1:\n",
    "        if i%2==0:\n",
    "            print(i,end='')"
   ]
  },
  {
   "cell_type": "code",
   "execution_count": 152,
   "id": "cdc934e0",
   "metadata": {},
   "outputs": [],
   "source": [
    "lst = [1,2,4,5,6]"
   ]
  },
  {
   "cell_type": "code",
   "execution_count": 153,
   "id": "252e8db3",
   "metadata": {},
   "outputs": [
    {
     "name": "stdout",
     "output_type": "stream",
     "text": [
      "246"
     ]
    }
   ],
   "source": [
    "even(lst)"
   ]
  },
  {
   "cell_type": "code",
   "execution_count": null,
   "id": "0df9e8b1",
   "metadata": {},
   "outputs": [],
   "source": []
  },
  {
   "cell_type": "markdown",
   "id": "3d55fc95",
   "metadata": {},
   "source": [
    "# Challenge\n",
    "write a pyhton function that takes a list and returns a new list with unique elements of the first list\n",
    "\n",
    "input = [1,2,3,4,1,2,4]\n",
    "output = [1,2,3,4]"
   ]
  },
  {
   "cell_type": "code",
   "execution_count": 162,
   "id": "e45d65a4",
   "metadata": {},
   "outputs": [],
   "source": [
    "lst = [1,2,3,4,1,2,4,6,7,8,3]"
   ]
  },
  {
   "cell_type": "code",
   "execution_count": 163,
   "id": "7ec60f88",
   "metadata": {},
   "outputs": [],
   "source": [
    "def unique(l1):\n",
    "    \n",
    "    new = []\n",
    "    #iterate on the li list\n",
    "    for i in l1:\n",
    "        #we are adding only unique element in new list\n",
    "        if i not in new:\n",
    "            new.append(i)\n",
    "            \n",
    "    #return new list\n",
    "    return new"
   ]
  },
  {
   "cell_type": "code",
   "execution_count": 164,
   "id": "6116834e",
   "metadata": {},
   "outputs": [
    {
     "data": {
      "text/plain": [
       "[1, 2, 3, 4, 6, 7, 8]"
      ]
     },
     "execution_count": 164,
     "metadata": {},
     "output_type": "execute_result"
    }
   ],
   "source": [
    "unique(lst)"
   ]
  },
  {
   "cell_type": "code",
   "execution_count": null,
   "id": "c7d0baef",
   "metadata": {},
   "outputs": [],
   "source": []
  },
  {
   "cell_type": "code",
   "execution_count": null,
   "id": "b521f087",
   "metadata": {},
   "outputs": [],
   "source": []
  }
 ],
 "metadata": {
  "kernelspec": {
   "display_name": "Python 3 (ipykernel)",
   "language": "python",
   "name": "python3"
  },
  "language_info": {
   "codemirror_mode": {
    "name": "ipython",
    "version": 3
   },
   "file_extension": ".py",
   "mimetype": "text/x-python",
   "name": "python",
   "nbconvert_exporter": "python",
   "pygments_lexer": "ipython3",
   "version": "3.11.5"
  }
 },
 "nbformat": 4,
 "nbformat_minor": 5
}
