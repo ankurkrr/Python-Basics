{
 "cells": [
  {
   "cell_type": "markdown",
   "id": "dc2b583c",
   "metadata": {},
   "source": [
    "# Dictionary\n",
    "Dictionary has Key value pair form of data\n",
    "\n",
    "Dictionaries are ordered (python 3.7 and above version)\n",
    "\n",
    "Does not support indexing\n",
    "\n",
    "Data can be accessed using key"
   ]
  },
  {
   "cell_type": "code",
   "execution_count": null,
   "id": "04988b88",
   "metadata": {},
   "outputs": [],
   "source": []
  },
  {
   "cell_type": "markdown",
   "id": "f802ad7e",
   "metadata": {},
   "source": [
    "### Creating a Dictionary"
   ]
  },
  {
   "cell_type": "code",
   "execution_count": 1,
   "id": "3021ba2d",
   "metadata": {},
   "outputs": [
    {
     "name": "stdout",
     "output_type": "stream",
     "text": [
      "<class 'dict'>\n",
      "{}\n"
     ]
    }
   ],
   "source": [
    "#Creating empty Dictionary\n",
    "\n",
    "d = {}\n",
    "print(type(d))\n",
    "print(d)"
   ]
  },
  {
   "cell_type": "code",
   "execution_count": 2,
   "id": "3baf0ca4",
   "metadata": {},
   "outputs": [
    {
     "name": "stdout",
     "output_type": "stream",
     "text": [
      "<class 'dict'>\n",
      "{}\n"
     ]
    }
   ],
   "source": [
    "d = dict()\n",
    "print(type(d))\n",
    "print(d)"
   ]
  },
  {
   "cell_type": "code",
   "execution_count": null,
   "id": "4cd9a4e5",
   "metadata": {},
   "outputs": [],
   "source": []
  },
  {
   "cell_type": "code",
   "execution_count": 3,
   "id": "26d34998",
   "metadata": {},
   "outputs": [],
   "source": [
    "#Creating non empty Dictionary\n",
    "\n",
    "fruits ={\n",
    "    \"Apple\": 120,\n",
    "    \"Mango\": 100,\n",
    "    \"Pineapple\": 90\n",
    "}"
   ]
  },
  {
   "cell_type": "code",
   "execution_count": 4,
   "id": "573867d2",
   "metadata": {},
   "outputs": [
    {
     "name": "stdout",
     "output_type": "stream",
     "text": [
      "<class 'dict'>\n",
      "{'Apple': 120, 'Mango': 100, 'Pineapple': 90}\n"
     ]
    }
   ],
   "source": [
    "print(type(fruits))\n",
    "print(fruits)"
   ]
  },
  {
   "cell_type": "code",
   "execution_count": null,
   "id": "dbd153e5",
   "metadata": {},
   "outputs": [],
   "source": []
  },
  {
   "cell_type": "code",
   "execution_count": 5,
   "id": "e550d2af",
   "metadata": {},
   "outputs": [],
   "source": [
    "#zip"
   ]
  },
  {
   "cell_type": "code",
   "execution_count": 6,
   "id": "54f78138",
   "metadata": {},
   "outputs": [],
   "source": [
    "name = [\"Apple\", \"Mango\", \"Oranges\"]\n",
    "prices = [120,100,130]"
   ]
  },
  {
   "cell_type": "code",
   "execution_count": 7,
   "id": "a960a7df",
   "metadata": {},
   "outputs": [],
   "source": [
    "fruit = dict(zip(name,prices))"
   ]
  },
  {
   "cell_type": "code",
   "execution_count": 8,
   "id": "e53104fa",
   "metadata": {},
   "outputs": [
    {
     "data": {
      "text/plain": [
       "{'Apple': 120, 'Mango': 100, 'Oranges': 130}"
      ]
     },
     "execution_count": 8,
     "metadata": {},
     "output_type": "execute_result"
    }
   ],
   "source": [
    "fruit"
   ]
  },
  {
   "cell_type": "code",
   "execution_count": 9,
   "id": "9a41320a",
   "metadata": {},
   "outputs": [
    {
     "data": {
      "text/plain": [
       "3"
      ]
     },
     "execution_count": 9,
     "metadata": {},
     "output_type": "execute_result"
    }
   ],
   "source": [
    "len(fruit)"
   ]
  },
  {
   "cell_type": "code",
   "execution_count": null,
   "id": "ceac12b0",
   "metadata": {},
   "outputs": [],
   "source": []
  },
  {
   "cell_type": "markdown",
   "id": "7212a736",
   "metadata": {},
   "source": [
    "### Acessing Elements"
   ]
  },
  {
   "cell_type": "code",
   "execution_count": 10,
   "id": "5e6c00ef",
   "metadata": {},
   "outputs": [],
   "source": [
    "#using key"
   ]
  },
  {
   "cell_type": "code",
   "execution_count": 11,
   "id": "54c35678",
   "metadata": {},
   "outputs": [],
   "source": [
    "fruits ={\n",
    "    \"Apple\": 120,\n",
    "    \"Mango\": 100,\n",
    "    \"Pineapple\": 90\n",
    "}"
   ]
  },
  {
   "cell_type": "code",
   "execution_count": 12,
   "id": "4da473b2",
   "metadata": {},
   "outputs": [
    {
     "data": {
      "text/plain": [
       "{'Apple': 120, 'Mango': 100, 'Pineapple': 90}"
      ]
     },
     "execution_count": 12,
     "metadata": {},
     "output_type": "execute_result"
    }
   ],
   "source": [
    "fruits"
   ]
  },
  {
   "cell_type": "code",
   "execution_count": 13,
   "id": "69a15893",
   "metadata": {},
   "outputs": [
    {
     "data": {
      "text/plain": [
       "100"
      ]
     },
     "execution_count": 13,
     "metadata": {},
     "output_type": "execute_result"
    }
   ],
   "source": [
    "fruits[\"Mango\"]"
   ]
  },
  {
   "cell_type": "code",
   "execution_count": 14,
   "id": "e3416bb7",
   "metadata": {},
   "outputs": [
    {
     "data": {
      "text/plain": [
       "120"
      ]
     },
     "execution_count": 14,
     "metadata": {},
     "output_type": "execute_result"
    }
   ],
   "source": [
    "fruits[\"Apple\"]"
   ]
  },
  {
   "cell_type": "code",
   "execution_count": 15,
   "id": "12c44452",
   "metadata": {},
   "outputs": [
    {
     "ename": "KeyError",
     "evalue": "'Guava'",
     "output_type": "error",
     "traceback": [
      "\u001b[1;31m---------------------------------------------------------------------------\u001b[0m",
      "\u001b[1;31mKeyError\u001b[0m                                  Traceback (most recent call last)",
      "Cell \u001b[1;32mIn[15], line 1\u001b[0m\n\u001b[1;32m----> 1\u001b[0m \u001b[43mfruits\u001b[49m\u001b[43m[\u001b[49m\u001b[38;5;124;43m\"\u001b[39;49m\u001b[38;5;124;43mGuava\u001b[39;49m\u001b[38;5;124;43m\"\u001b[39;49m\u001b[43m]\u001b[49m\n",
      "\u001b[1;31mKeyError\u001b[0m: 'Guava'"
     ]
    }
   ],
   "source": [
    "fruits[\"Guava\"]"
   ]
  },
  {
   "cell_type": "code",
   "execution_count": null,
   "id": "a7c7f9b1",
   "metadata": {},
   "outputs": [],
   "source": [
    "# get method"
   ]
  },
  {
   "cell_type": "code",
   "execution_count": 16,
   "id": "fee00487",
   "metadata": {},
   "outputs": [
    {
     "data": {
      "text/plain": [
       "120"
      ]
     },
     "execution_count": 16,
     "metadata": {},
     "output_type": "execute_result"
    }
   ],
   "source": [
    "fruits.get(\"Apple\")"
   ]
  },
  {
   "cell_type": "code",
   "execution_count": 17,
   "id": "54f0319c",
   "metadata": {},
   "outputs": [],
   "source": [
    "fruits.get(\"Guava\")"
   ]
  },
  {
   "cell_type": "code",
   "execution_count": 18,
   "id": "dceea083",
   "metadata": {},
   "outputs": [
    {
     "data": {
      "text/plain": [
       "'Not Available'"
      ]
     },
     "execution_count": 18,
     "metadata": {},
     "output_type": "execute_result"
    }
   ],
   "source": [
    "fruits.get(\"Guava\",\"Not Available\")"
   ]
  },
  {
   "cell_type": "code",
   "execution_count": 19,
   "id": "4e8382a3",
   "metadata": {},
   "outputs": [
    {
     "data": {
      "text/plain": [
       "0"
      ]
     },
     "execution_count": 19,
     "metadata": {},
     "output_type": "execute_result"
    }
   ],
   "source": [
    "fruits.get(\"Guava\",0)"
   ]
  },
  {
   "cell_type": "code",
   "execution_count": null,
   "id": "6a360990",
   "metadata": {},
   "outputs": [],
   "source": []
  },
  {
   "cell_type": "markdown",
   "id": "c07645dd",
   "metadata": {},
   "source": [
    "### Updating a Dictionary\n",
    "\n",
    "Using Key\n",
    "\n",
    "Update Method"
   ]
  },
  {
   "cell_type": "code",
   "execution_count": 20,
   "id": "d42dd7e6",
   "metadata": {},
   "outputs": [],
   "source": [
    "# Updating the existing value"
   ]
  },
  {
   "cell_type": "code",
   "execution_count": 21,
   "id": "02d49812",
   "metadata": {},
   "outputs": [
    {
     "data": {
      "text/plain": [
       "{'Apple': 120, 'Mango': 100, 'Pineapple': 90}"
      ]
     },
     "execution_count": 21,
     "metadata": {},
     "output_type": "execute_result"
    }
   ],
   "source": [
    "fruits"
   ]
  },
  {
   "cell_type": "code",
   "execution_count": 22,
   "id": "8ff2c317",
   "metadata": {},
   "outputs": [
    {
     "data": {
      "text/plain": [
       "90"
      ]
     },
     "execution_count": 22,
     "metadata": {},
     "output_type": "execute_result"
    }
   ],
   "source": [
    "fruits[\"Pineapple\"]"
   ]
  },
  {
   "cell_type": "code",
   "execution_count": 23,
   "id": "d7cc34a7",
   "metadata": {},
   "outputs": [],
   "source": [
    "fruits[\"Pineapple\"] = {\"small\":90, \"large\":120}"
   ]
  },
  {
   "cell_type": "code",
   "execution_count": 24,
   "id": "7a88b502",
   "metadata": {},
   "outputs": [
    {
     "data": {
      "text/plain": [
       "{'Apple': 120, 'Mango': 100, 'Pineapple': {'small': 90, 'large': 120}}"
      ]
     },
     "execution_count": 24,
     "metadata": {},
     "output_type": "execute_result"
    }
   ],
   "source": [
    "fruits"
   ]
  },
  {
   "cell_type": "code",
   "execution_count": null,
   "id": "c54182f7",
   "metadata": {},
   "outputs": [],
   "source": []
  },
  {
   "cell_type": "code",
   "execution_count": 25,
   "id": "8d7feb00",
   "metadata": {},
   "outputs": [],
   "source": [
    "# updating with new value"
   ]
  },
  {
   "cell_type": "code",
   "execution_count": 26,
   "id": "626d9c16",
   "metadata": {},
   "outputs": [
    {
     "data": {
      "text/plain": [
       "{'Apple': 120, 'Mango': 100, 'Pineapple': {'small': 90, 'large': 120}}"
      ]
     },
     "execution_count": 26,
     "metadata": {},
     "output_type": "execute_result"
    }
   ],
   "source": [
    "fruits"
   ]
  },
  {
   "cell_type": "code",
   "execution_count": 27,
   "id": "d158e751",
   "metadata": {},
   "outputs": [
    {
     "ename": "KeyError",
     "evalue": "'Guava'",
     "output_type": "error",
     "traceback": [
      "\u001b[1;31m---------------------------------------------------------------------------\u001b[0m",
      "\u001b[1;31mKeyError\u001b[0m                                  Traceback (most recent call last)",
      "Cell \u001b[1;32mIn[27], line 1\u001b[0m\n\u001b[1;32m----> 1\u001b[0m \u001b[43mfruits\u001b[49m\u001b[43m[\u001b[49m\u001b[38;5;124;43m\"\u001b[39;49m\u001b[38;5;124;43mGuava\u001b[39;49m\u001b[38;5;124;43m\"\u001b[39;49m\u001b[43m]\u001b[49m\n",
      "\u001b[1;31mKeyError\u001b[0m: 'Guava'"
     ]
    }
   ],
   "source": [
    "fruits[\"Guava\"]"
   ]
  },
  {
   "cell_type": "code",
   "execution_count": 28,
   "id": "e18e25a3",
   "metadata": {},
   "outputs": [],
   "source": [
    "fruits[\"Guava\"] = 80"
   ]
  },
  {
   "cell_type": "code",
   "execution_count": 29,
   "id": "f4ef5e93",
   "metadata": {},
   "outputs": [
    {
     "data": {
      "text/plain": [
       "{'Apple': 120,\n",
       " 'Mango': 100,\n",
       " 'Pineapple': {'small': 90, 'large': 120},\n",
       " 'Guava': 80}"
      ]
     },
     "execution_count": 29,
     "metadata": {},
     "output_type": "execute_result"
    }
   ],
   "source": [
    "fruits"
   ]
  },
  {
   "cell_type": "code",
   "execution_count": null,
   "id": "246f9d7a",
   "metadata": {},
   "outputs": [],
   "source": []
  },
  {
   "cell_type": "code",
   "execution_count": null,
   "id": "7ea08155",
   "metadata": {},
   "outputs": [],
   "source": []
  },
  {
   "cell_type": "code",
   "execution_count": 30,
   "id": "b1f2a2a9",
   "metadata": {},
   "outputs": [],
   "source": [
    "#update"
   ]
  },
  {
   "cell_type": "code",
   "execution_count": 31,
   "id": "172ae1e5",
   "metadata": {},
   "outputs": [],
   "source": [
    "new = {\"grapes\":120, \"oranges\":70, \"berry\": 140}"
   ]
  },
  {
   "cell_type": "code",
   "execution_count": 32,
   "id": "9361d9ca",
   "metadata": {},
   "outputs": [
    {
     "data": {
      "text/plain": [
       "{'Apple': 120,\n",
       " 'Mango': 100,\n",
       " 'Pineapple': {'small': 90, 'large': 120},\n",
       " 'Guava': 80}"
      ]
     },
     "execution_count": 32,
     "metadata": {},
     "output_type": "execute_result"
    }
   ],
   "source": [
    "fruits"
   ]
  },
  {
   "cell_type": "code",
   "execution_count": 33,
   "id": "59e2508f",
   "metadata": {},
   "outputs": [],
   "source": [
    "fruits.update(new)"
   ]
  },
  {
   "cell_type": "code",
   "execution_count": 34,
   "id": "0de41453",
   "metadata": {},
   "outputs": [
    {
     "data": {
      "text/plain": [
       "{'Apple': 120,\n",
       " 'Mango': 100,\n",
       " 'Pineapple': {'small': 90, 'large': 120},\n",
       " 'Guava': 80,\n",
       " 'grapes': 120,\n",
       " 'oranges': 70,\n",
       " 'berry': 140}"
      ]
     },
     "execution_count": 34,
     "metadata": {},
     "output_type": "execute_result"
    }
   ],
   "source": [
    "fruits"
   ]
  },
  {
   "cell_type": "code",
   "execution_count": null,
   "id": "667b5fd9",
   "metadata": {},
   "outputs": [],
   "source": []
  },
  {
   "cell_type": "code",
   "execution_count": null,
   "id": "2340ef4b",
   "metadata": {},
   "outputs": [],
   "source": []
  },
  {
   "cell_type": "markdown",
   "id": "84797b9c",
   "metadata": {},
   "source": [
    "### Deleting Data\n",
    "pop\n",
    "\n",
    "popitem\n",
    "\n",
    "del"
   ]
  },
  {
   "cell_type": "code",
   "execution_count": 35,
   "id": "565710dd",
   "metadata": {},
   "outputs": [
    {
     "data": {
      "text/plain": [
       "{'Apple': 120,\n",
       " 'Mango': 100,\n",
       " 'Pineapple': {'small': 90, 'large': 120},\n",
       " 'Guava': 80,\n",
       " 'grapes': 120,\n",
       " 'oranges': 70,\n",
       " 'berry': 140}"
      ]
     },
     "execution_count": 35,
     "metadata": {},
     "output_type": "execute_result"
    }
   ],
   "source": [
    "fruits"
   ]
  },
  {
   "cell_type": "code",
   "execution_count": 36,
   "id": "71215cb1",
   "metadata": {},
   "outputs": [
    {
     "data": {
      "text/plain": [
       "True"
      ]
     },
     "execution_count": 36,
     "metadata": {},
     "output_type": "execute_result"
    }
   ],
   "source": [
    "\"Apple\" in fruits"
   ]
  },
  {
   "cell_type": "code",
   "execution_count": 37,
   "id": "928be9aa",
   "metadata": {},
   "outputs": [
    {
     "data": {
      "text/plain": [
       "False"
      ]
     },
     "execution_count": 37,
     "metadata": {},
     "output_type": "execute_result"
    }
   ],
   "source": [
    "\"Blueberry\" in fruits"
   ]
  },
  {
   "cell_type": "code",
   "execution_count": null,
   "id": "d200e921",
   "metadata": {},
   "outputs": [],
   "source": []
  },
  {
   "cell_type": "code",
   "execution_count": 38,
   "id": "623d2d12",
   "metadata": {},
   "outputs": [],
   "source": [
    "# dict.pop()"
   ]
  },
  {
   "cell_type": "code",
   "execution_count": 39,
   "id": "2ce7e63d",
   "metadata": {},
   "outputs": [
    {
     "data": {
      "text/plain": [
       "{'Apple': 120,\n",
       " 'Mango': 100,\n",
       " 'Pineapple': {'small': 90, 'large': 120},\n",
       " 'Guava': 80,\n",
       " 'grapes': 120,\n",
       " 'oranges': 70,\n",
       " 'berry': 140}"
      ]
     },
     "execution_count": 39,
     "metadata": {},
     "output_type": "execute_result"
    }
   ],
   "source": [
    "fruits"
   ]
  },
  {
   "cell_type": "code",
   "execution_count": 40,
   "id": "fba0a339",
   "metadata": {},
   "outputs": [
    {
     "data": {
      "text/plain": [
       "120"
      ]
     },
     "execution_count": 40,
     "metadata": {},
     "output_type": "execute_result"
    }
   ],
   "source": [
    "fruits.pop(\"Apple\")"
   ]
  },
  {
   "cell_type": "code",
   "execution_count": 41,
   "id": "6a63789d",
   "metadata": {},
   "outputs": [
    {
     "data": {
      "text/plain": [
       "{'Mango': 100,\n",
       " 'Pineapple': {'small': 90, 'large': 120},\n",
       " 'Guava': 80,\n",
       " 'grapes': 120,\n",
       " 'oranges': 70,\n",
       " 'berry': 140}"
      ]
     },
     "execution_count": 41,
     "metadata": {},
     "output_type": "execute_result"
    }
   ],
   "source": [
    "fruits"
   ]
  },
  {
   "cell_type": "code",
   "execution_count": 42,
   "id": "b209c8a3",
   "metadata": {},
   "outputs": [
    {
     "ename": "TypeError",
     "evalue": "pop expected at least 1 argument, got 0",
     "output_type": "error",
     "traceback": [
      "\u001b[1;31m---------------------------------------------------------------------------\u001b[0m",
      "\u001b[1;31mTypeError\u001b[0m                                 Traceback (most recent call last)",
      "Cell \u001b[1;32mIn[42], line 1\u001b[0m\n\u001b[1;32m----> 1\u001b[0m \u001b[43mfruits\u001b[49m\u001b[38;5;241;43m.\u001b[39;49m\u001b[43mpop\u001b[49m\u001b[43m(\u001b[49m\u001b[43m)\u001b[49m\n",
      "\u001b[1;31mTypeError\u001b[0m: pop expected at least 1 argument, got 0"
     ]
    }
   ],
   "source": [
    "fruits.pop()"
   ]
  },
  {
   "cell_type": "code",
   "execution_count": null,
   "id": "6e5c24d4",
   "metadata": {},
   "outputs": [],
   "source": []
  },
  {
   "cell_type": "code",
   "execution_count": 43,
   "id": "4f8d02a2",
   "metadata": {},
   "outputs": [],
   "source": [
    "# dict.popitem()"
   ]
  },
  {
   "cell_type": "code",
   "execution_count": 44,
   "id": "66f993c1",
   "metadata": {},
   "outputs": [
    {
     "data": {
      "text/plain": [
       "{'Mango': 100,\n",
       " 'Pineapple': {'small': 90, 'large': 120},\n",
       " 'Guava': 80,\n",
       " 'grapes': 120,\n",
       " 'oranges': 70,\n",
       " 'berry': 140}"
      ]
     },
     "execution_count": 44,
     "metadata": {},
     "output_type": "execute_result"
    }
   ],
   "source": [
    "fruits"
   ]
  },
  {
   "cell_type": "code",
   "execution_count": 45,
   "id": "2d3826d1",
   "metadata": {},
   "outputs": [
    {
     "data": {
      "text/plain": [
       "('berry', 140)"
      ]
     },
     "execution_count": 45,
     "metadata": {},
     "output_type": "execute_result"
    }
   ],
   "source": [
    "# popitem delete last element\n",
    "fruits.popitem()"
   ]
  },
  {
   "cell_type": "code",
   "execution_count": 46,
   "id": "7b7e04dd",
   "metadata": {},
   "outputs": [
    {
     "data": {
      "text/plain": [
       "{'Mango': 100,\n",
       " 'Pineapple': {'small': 90, 'large': 120},\n",
       " 'Guava': 80,\n",
       " 'grapes': 120,\n",
       " 'oranges': 70}"
      ]
     },
     "execution_count": 46,
     "metadata": {},
     "output_type": "execute_result"
    }
   ],
   "source": [
    "fruits"
   ]
  },
  {
   "cell_type": "code",
   "execution_count": 47,
   "id": "0a822156",
   "metadata": {},
   "outputs": [
    {
     "data": {
      "text/plain": [
       "('oranges', 70)"
      ]
     },
     "execution_count": 47,
     "metadata": {},
     "output_type": "execute_result"
    }
   ],
   "source": [
    "fruits.popitem()"
   ]
  },
  {
   "cell_type": "code",
   "execution_count": 48,
   "id": "738e77ce",
   "metadata": {},
   "outputs": [
    {
     "data": {
      "text/plain": [
       "{'Mango': 100,\n",
       " 'Pineapple': {'small': 90, 'large': 120},\n",
       " 'Guava': 80,\n",
       " 'grapes': 120}"
      ]
     },
     "execution_count": 48,
     "metadata": {},
     "output_type": "execute_result"
    }
   ],
   "source": [
    "fruits"
   ]
  },
  {
   "cell_type": "code",
   "execution_count": 49,
   "id": "c7460ff3",
   "metadata": {},
   "outputs": [
    {
     "data": {
      "text/plain": [
       "('grapes', 120)"
      ]
     },
     "execution_count": 49,
     "metadata": {},
     "output_type": "execute_result"
    }
   ],
   "source": [
    "fruits.popitem()"
   ]
  },
  {
   "cell_type": "code",
   "execution_count": 50,
   "id": "b6ed0cd7",
   "metadata": {},
   "outputs": [
    {
     "data": {
      "text/plain": [
       "{'Mango': 100, 'Pineapple': {'small': 90, 'large': 120}, 'Guava': 80}"
      ]
     },
     "execution_count": 50,
     "metadata": {},
     "output_type": "execute_result"
    }
   ],
   "source": [
    "fruits"
   ]
  },
  {
   "cell_type": "code",
   "execution_count": 51,
   "id": "f1725c28",
   "metadata": {},
   "outputs": [
    {
     "data": {
      "text/plain": [
       "('Guava', 80)"
      ]
     },
     "execution_count": 51,
     "metadata": {},
     "output_type": "execute_result"
    }
   ],
   "source": [
    "fruits.popitem()"
   ]
  },
  {
   "cell_type": "code",
   "execution_count": null,
   "id": "0e7af3a5",
   "metadata": {},
   "outputs": [],
   "source": []
  },
  {
   "cell_type": "code",
   "execution_count": null,
   "id": "54fd2f02",
   "metadata": {},
   "outputs": [],
   "source": []
  },
  {
   "cell_type": "code",
   "execution_count": 52,
   "id": "caad110c",
   "metadata": {},
   "outputs": [],
   "source": [
    "# del object"
   ]
  },
  {
   "cell_type": "code",
   "execution_count": 53,
   "id": "8cb8b942",
   "metadata": {},
   "outputs": [
    {
     "data": {
      "text/plain": [
       "{'Mango': 100, 'Pineapple': {'small': 90, 'large': 120}}"
      ]
     },
     "execution_count": 53,
     "metadata": {},
     "output_type": "execute_result"
    }
   ],
   "source": [
    "fruits"
   ]
  },
  {
   "cell_type": "code",
   "execution_count": 54,
   "id": "065f8de6",
   "metadata": {},
   "outputs": [],
   "source": [
    "del fruits"
   ]
  },
  {
   "cell_type": "code",
   "execution_count": 55,
   "id": "147ae974",
   "metadata": {},
   "outputs": [
    {
     "ename": "NameError",
     "evalue": "name 'fruits' is not defined",
     "output_type": "error",
     "traceback": [
      "\u001b[1;31m---------------------------------------------------------------------------\u001b[0m",
      "\u001b[1;31mNameError\u001b[0m                                 Traceback (most recent call last)",
      "Cell \u001b[1;32mIn[55], line 1\u001b[0m\n\u001b[1;32m----> 1\u001b[0m \u001b[43mfruits\u001b[49m\n",
      "\u001b[1;31mNameError\u001b[0m: name 'fruits' is not defined"
     ]
    }
   ],
   "source": [
    "fruits"
   ]
  },
  {
   "cell_type": "code",
   "execution_count": null,
   "id": "c854f73e",
   "metadata": {},
   "outputs": [],
   "source": []
  },
  {
   "cell_type": "markdown",
   "id": "5ebd7007",
   "metadata": {},
   "source": [
    "### Iterate in Dictionary"
   ]
  },
  {
   "cell_type": "code",
   "execution_count": 56,
   "id": "7aa931d6",
   "metadata": {},
   "outputs": [],
   "source": [
    "fruits ={\n",
    "    \"Apple\": 120,\n",
    "    \"Mango\": 100,\n",
    "    \"Pineapple\": 90\n",
    "}"
   ]
  },
  {
   "cell_type": "code",
   "execution_count": 57,
   "id": "f03f468b",
   "metadata": {},
   "outputs": [
    {
     "data": {
      "text/plain": [
       "{'Apple': 120, 'Mango': 100, 'Pineapple': 90}"
      ]
     },
     "execution_count": 57,
     "metadata": {},
     "output_type": "execute_result"
    }
   ],
   "source": [
    "fruits"
   ]
  },
  {
   "cell_type": "code",
   "execution_count": 58,
   "id": "5b012e3d",
   "metadata": {},
   "outputs": [
    {
     "name": "stdout",
     "output_type": "stream",
     "text": [
      "Apple\n",
      "Mango\n",
      "Pineapple\n"
     ]
    }
   ],
   "source": [
    "for i in fruits:\n",
    "    print(i)"
   ]
  },
  {
   "cell_type": "code",
   "execution_count": 59,
   "id": "e91e3953",
   "metadata": {},
   "outputs": [
    {
     "data": {
      "text/plain": [
       "120"
      ]
     },
     "execution_count": 59,
     "metadata": {},
     "output_type": "execute_result"
    }
   ],
   "source": [
    "fruits['Apple']"
   ]
  },
  {
   "cell_type": "code",
   "execution_count": 60,
   "id": "6e0e3218",
   "metadata": {},
   "outputs": [
    {
     "name": "stdout",
     "output_type": "stream",
     "text": [
      "120\n",
      "100\n",
      "90\n"
     ]
    }
   ],
   "source": [
    "for i in fruits:\n",
    "    print(fruits[i])"
   ]
  },
  {
   "cell_type": "code",
   "execution_count": 62,
   "id": "fcaa58f8",
   "metadata": {},
   "outputs": [
    {
     "name": "stdout",
     "output_type": "stream",
     "text": [
      "Apple 120\n",
      "Mango 100\n",
      "Pineapple 90\n"
     ]
    }
   ],
   "source": [
    "for i in fruits:\n",
    "    print(i,fruits[i])"
   ]
  },
  {
   "cell_type": "code",
   "execution_count": 61,
   "id": "8c3aa86b",
   "metadata": {},
   "outputs": [
    {
     "data": {
      "text/plain": [
       "dict"
      ]
     },
     "execution_count": 61,
     "metadata": {},
     "output_type": "execute_result"
    }
   ],
   "source": [
    "type(fruits)"
   ]
  },
  {
   "cell_type": "code",
   "execution_count": 64,
   "id": "775c0560",
   "metadata": {},
   "outputs": [
    {
     "name": "stdout",
     "output_type": "stream",
     "text": [
      "Apple 120\n",
      "Mango 100\n",
      "Pineapple 90\n"
     ]
    }
   ],
   "source": [
    "# iterate using dict.items\n",
    "\n",
    "for key, value in fruits.items():\n",
    "    print(key,value)"
   ]
  },
  {
   "cell_type": "code",
   "execution_count": 65,
   "id": "bd57b600",
   "metadata": {},
   "outputs": [
    {
     "data": {
      "text/plain": [
       "dict_items([('Apple', 120), ('Mango', 100), ('Pineapple', 90)])"
      ]
     },
     "execution_count": 65,
     "metadata": {},
     "output_type": "execute_result"
    }
   ],
   "source": [
    "fruits.items()"
   ]
  },
  {
   "cell_type": "code",
   "execution_count": null,
   "id": "f6748b99",
   "metadata": {},
   "outputs": [],
   "source": []
  },
  {
   "cell_type": "markdown",
   "id": "73f1dc9c",
   "metadata": {},
   "source": [
    "### More Dictionary Methods\n",
    "Keys\n",
    "\n",
    "values\n",
    "\n",
    "items"
   ]
  },
  {
   "cell_type": "code",
   "execution_count": 66,
   "id": "d0c892f1",
   "metadata": {},
   "outputs": [
    {
     "data": {
      "text/plain": [
       "{'Apple': 120, 'Mango': 100, 'Pineapple': 90}"
      ]
     },
     "execution_count": 66,
     "metadata": {},
     "output_type": "execute_result"
    }
   ],
   "source": [
    "fruits"
   ]
  },
  {
   "cell_type": "code",
   "execution_count": 67,
   "id": "6d7e16ef",
   "metadata": {},
   "outputs": [
    {
     "data": {
      "text/plain": [
       "dict_keys(['Apple', 'Mango', 'Pineapple'])"
      ]
     },
     "execution_count": 67,
     "metadata": {},
     "output_type": "execute_result"
    }
   ],
   "source": [
    "fruits.keys()"
   ]
  },
  {
   "cell_type": "code",
   "execution_count": 68,
   "id": "43320684",
   "metadata": {},
   "outputs": [
    {
     "data": {
      "text/plain": [
       "dict_values([120, 100, 90])"
      ]
     },
     "execution_count": 68,
     "metadata": {},
     "output_type": "execute_result"
    }
   ],
   "source": [
    "fruits.values()"
   ]
  },
  {
   "cell_type": "code",
   "execution_count": 69,
   "id": "e3a1ebbe",
   "metadata": {},
   "outputs": [
    {
     "data": {
      "text/plain": [
       "dict_items([('Apple', 120), ('Mango', 100), ('Pineapple', 90)])"
      ]
     },
     "execution_count": 69,
     "metadata": {},
     "output_type": "execute_result"
    }
   ],
   "source": [
    "fruits.items()"
   ]
  },
  {
   "cell_type": "code",
   "execution_count": null,
   "id": "32bdf0a9",
   "metadata": {},
   "outputs": [],
   "source": []
  },
  {
   "cell_type": "markdown",
   "id": "fca49c37",
   "metadata": {},
   "source": [
    "### Challenge:\n",
    "\n",
    "Take an input and find the freq of each letter and return the letter and \n",
    "their freq\n",
    "\n",
    "ex:\"Rahul Janghu\"\n",
    "\"R\":1\n",
    "\"a\":2\n",
    "\"h\":2\n",
    "\"u\":2\n",
    "\"l\":1\n",
    "\" \":1\n",
    "\"j\":1\n",
    "\"n\":1\n",
    "\"g\":1"
   ]
  },
  {
   "cell_type": "code",
   "execution_count": null,
   "id": "df4d7215",
   "metadata": {},
   "outputs": [],
   "source": []
  },
  {
   "cell_type": "code",
   "execution_count": 70,
   "id": "955e0719",
   "metadata": {},
   "outputs": [],
   "source": [
    "d = {\"r\":1,\"r\":3}"
   ]
  },
  {
   "cell_type": "code",
   "execution_count": 71,
   "id": "3c0ec852",
   "metadata": {},
   "outputs": [
    {
     "data": {
      "text/plain": [
       "{'r': 3}"
      ]
     },
     "execution_count": 71,
     "metadata": {},
     "output_type": "execute_result"
    }
   ],
   "source": [
    "d"
   ]
  },
  {
   "cell_type": "code",
   "execution_count": 72,
   "id": "e1f0cc44",
   "metadata": {},
   "outputs": [
    {
     "name": "stdout",
     "output_type": "stream",
     "text": [
      "Rahul janghu\n"
     ]
    }
   ],
   "source": [
    "name = input()"
   ]
  },
  {
   "cell_type": "code",
   "execution_count": 73,
   "id": "715bcb43",
   "metadata": {},
   "outputs": [
    {
     "name": "stdout",
     "output_type": "stream",
     "text": [
      "R\n",
      "a\n",
      "h\n",
      "u\n",
      "l\n",
      " \n",
      "j\n",
      "a\n",
      "n\n",
      "g\n",
      "h\n",
      "u\n"
     ]
    }
   ],
   "source": [
    "for i in name:\n",
    "    print(i)"
   ]
  },
  {
   "cell_type": "code",
   "execution_count": 76,
   "id": "ca1710d8",
   "metadata": {},
   "outputs": [
    {
     "name": "stdout",
     "output_type": "stream",
     "text": [
      "{'R': 1, 'a': 2, 'h': 2, 'u': 2, 'l': 1, ' ': 1, 'j': 1, 'n': 1, 'g': 1}\n"
     ]
    }
   ],
   "source": [
    "freq = {}\n",
    "for i in name:\n",
    "    #check for presence\n",
    "    if i not in freq:\n",
    "        freq[i] = 1\n",
    "    #if present increment the freq by factor of 1\n",
    "    else:\n",
    "        freq[i] += 1\n",
    "print(freq)"
   ]
  },
  {
   "cell_type": "code",
   "execution_count": 75,
   "id": "f8218092",
   "metadata": {},
   "outputs": [
    {
     "data": {
      "text/plain": [
       "{}"
      ]
     },
     "execution_count": 75,
     "metadata": {},
     "output_type": "execute_result"
    }
   ],
   "source": [
    "freq"
   ]
  },
  {
   "cell_type": "code",
   "execution_count": 77,
   "id": "c932ef22",
   "metadata": {},
   "outputs": [],
   "source": [
    "bbt = {'Sheldon': 1, 'Leonard': 2}"
   ]
  },
  {
   "cell_type": "code",
   "execution_count": 78,
   "id": "b5a89cae",
   "metadata": {},
   "outputs": [
    {
     "name": "stdout",
     "output_type": "stream",
     "text": [
      "{'Sheldon': 1, 'Leonard': 2, 'Penny': 2}\n"
     ]
    }
   ],
   "source": [
    "bbt.update({'Penny': 2})\n",
    "print(bbt)"
   ]
  },
  {
   "cell_type": "code",
   "execution_count": null,
   "id": "dcfbb823",
   "metadata": {},
   "outputs": [],
   "source": []
  }
 ],
 "metadata": {
  "kernelspec": {
   "display_name": "Python 3 (ipykernel)",
   "language": "python",
   "name": "python3"
  },
  "language_info": {
   "codemirror_mode": {
    "name": "ipython",
    "version": 3
   },
   "file_extension": ".py",
   "mimetype": "text/x-python",
   "name": "python",
   "nbconvert_exporter": "python",
   "pygments_lexer": "ipython3",
   "version": "3.11.5"
  }
 },
 "nbformat": 4,
 "nbformat_minor": 5
}
