{
 "cells": [
  {
   "cell_type": "code",
   "execution_count": 1,
   "id": "15c70d49",
   "metadata": {},
   "outputs": [
    {
     "data": {
      "text/plain": [
       "97"
      ]
     },
     "execution_count": 1,
     "metadata": {},
     "output_type": "execute_result"
    }
   ],
   "source": [
    "ord('a')"
   ]
  },
  {
   "cell_type": "code",
   "execution_count": 2,
   "id": "07cfe794",
   "metadata": {},
   "outputs": [
    {
     "data": {
      "text/plain": [
       "65"
      ]
     },
     "execution_count": 2,
     "metadata": {},
     "output_type": "execute_result"
    }
   ],
   "source": [
    "ord('A')"
   ]
  },
  {
   "cell_type": "code",
   "execution_count": 4,
   "id": "000727c6",
   "metadata": {},
   "outputs": [
    {
     "data": {
      "text/plain": [
       "'a'"
      ]
     },
     "execution_count": 4,
     "metadata": {},
     "output_type": "execute_result"
    }
   ],
   "source": [
    "chr(97)"
   ]
  },
  {
   "cell_type": "code",
   "execution_count": 5,
   "id": "33562dc3",
   "metadata": {},
   "outputs": [
    {
     "data": {
      "text/plain": [
       "'A'"
      ]
     },
     "execution_count": 5,
     "metadata": {},
     "output_type": "execute_result"
    }
   ],
   "source": [
    "chr(65)"
   ]
  },
  {
   "cell_type": "code",
   "execution_count": null,
   "id": "424b3ab5",
   "metadata": {},
   "outputs": [],
   "source": []
  },
  {
   "cell_type": "code",
   "execution_count": 6,
   "id": "f67d1987",
   "metadata": {},
   "outputs": [],
   "source": [
    "# Indexing in a String"
   ]
  },
  {
   "cell_type": "code",
   "execution_count": 7,
   "id": "a3442c68",
   "metadata": {},
   "outputs": [],
   "source": [
    "name = 'Ankur Kumar'"
   ]
  },
  {
   "cell_type": "code",
   "execution_count": 10,
   "id": "59d7889a",
   "metadata": {},
   "outputs": [
    {
     "data": {
      "text/plain": [
       "'A'"
      ]
     },
     "execution_count": 10,
     "metadata": {},
     "output_type": "execute_result"
    }
   ],
   "source": [
    "name[0]"
   ]
  },
  {
   "cell_type": "code",
   "execution_count": 11,
   "id": "b6502edd",
   "metadata": {},
   "outputs": [
    {
     "data": {
      "text/plain": [
       "'n'"
      ]
     },
     "execution_count": 11,
     "metadata": {},
     "output_type": "execute_result"
    }
   ],
   "source": [
    "name[1]"
   ]
  },
  {
   "cell_type": "code",
   "execution_count": 12,
   "id": "d6afec42",
   "metadata": {},
   "outputs": [
    {
     "data": {
      "text/plain": [
       "'r'"
      ]
     },
     "execution_count": 12,
     "metadata": {},
     "output_type": "execute_result"
    }
   ],
   "source": [
    "name[-1]"
   ]
  },
  {
   "cell_type": "code",
   "execution_count": 13,
   "id": "e0e4e0cd",
   "metadata": {},
   "outputs": [],
   "source": [
    "size= len(name)"
   ]
  },
  {
   "cell_type": "code",
   "execution_count": 14,
   "id": "22aef3b2",
   "metadata": {},
   "outputs": [
    {
     "data": {
      "text/plain": [
       "11"
      ]
     },
     "execution_count": 14,
     "metadata": {},
     "output_type": "execute_result"
    }
   ],
   "source": [
    "size"
   ]
  },
  {
   "cell_type": "code",
   "execution_count": 16,
   "id": "0ebb5b97",
   "metadata": {},
   "outputs": [
    {
     "name": "stdout",
     "output_type": "stream",
     "text": [
      "A\n"
     ]
    }
   ],
   "source": [
    "print(name[-size])"
   ]
  },
  {
   "cell_type": "code",
   "execution_count": 17,
   "id": "d436ddd3",
   "metadata": {},
   "outputs": [
    {
     "data": {
      "text/plain": [
       "'Ank'"
      ]
     },
     "execution_count": 17,
     "metadata": {},
     "output_type": "execute_result"
    }
   ],
   "source": [
    "name[0:3]"
   ]
  },
  {
   "cell_type": "code",
   "execution_count": 18,
   "id": "b01f64c4",
   "metadata": {},
   "outputs": [
    {
     "data": {
      "text/plain": [
       "'Ankur Kuma'"
      ]
     },
     "execution_count": 18,
     "metadata": {},
     "output_type": "execute_result"
    }
   ],
   "source": [
    "name[0:-1]"
   ]
  },
  {
   "cell_type": "code",
   "execution_count": 19,
   "id": "1c0ccf00",
   "metadata": {},
   "outputs": [
    {
     "data": {
      "text/plain": [
       "11"
      ]
     },
     "execution_count": 19,
     "metadata": {},
     "output_type": "execute_result"
    }
   ],
   "source": [
    "size"
   ]
  },
  {
   "cell_type": "code",
   "execution_count": 21,
   "id": "9f7f9823",
   "metadata": {},
   "outputs": [
    {
     "data": {
      "text/plain": [
       "'kur Kumar'"
      ]
     },
     "execution_count": 21,
     "metadata": {},
     "output_type": "execute_result"
    }
   ],
   "source": [
    "name[2:size]"
   ]
  },
  {
   "cell_type": "code",
   "execution_count": 22,
   "id": "c945ed8a",
   "metadata": {},
   "outputs": [
    {
     "data": {
      "text/plain": [
       "'Ankur Kumar'"
      ]
     },
     "execution_count": 22,
     "metadata": {},
     "output_type": "execute_result"
    }
   ],
   "source": [
    "#The will give whole string\n",
    "name[:]"
   ]
  },
  {
   "cell_type": "code",
   "execution_count": 24,
   "id": "91cc7e12",
   "metadata": {},
   "outputs": [
    {
     "data": {
      "text/plain": [
       "'AkrKmr'"
      ]
     },
     "execution_count": 24,
     "metadata": {},
     "output_type": "execute_result"
    }
   ],
   "source": [
    "name[::2]"
   ]
  },
  {
   "cell_type": "code",
   "execution_count": 26,
   "id": "89372189",
   "metadata": {},
   "outputs": [
    {
     "data": {
      "text/plain": [
       "'r'"
      ]
     },
     "execution_count": 26,
     "metadata": {},
     "output_type": "execute_result"
    }
   ],
   "source": [
    "name[-1]"
   ]
  },
  {
   "cell_type": "code",
   "execution_count": 29,
   "id": "580ff086",
   "metadata": {},
   "outputs": [
    {
     "data": {
      "text/plain": [
       "''"
      ]
     },
     "execution_count": 29,
     "metadata": {},
     "output_type": "execute_result"
    }
   ],
   "source": [
    "name[-1:0]"
   ]
  },
  {
   "cell_type": "code",
   "execution_count": 30,
   "id": "5b09253b",
   "metadata": {},
   "outputs": [
    {
     "data": {
      "text/plain": [
       "'ramuK rukn'"
      ]
     },
     "execution_count": 30,
     "metadata": {},
     "output_type": "execute_result"
    }
   ],
   "source": [
    "name[-1:0:-1]"
   ]
  },
  {
   "cell_type": "code",
   "execution_count": 27,
   "id": "bac91315",
   "metadata": {},
   "outputs": [
    {
     "data": {
      "text/plain": [
       "'ramuK ruknA'"
      ]
     },
     "execution_count": 27,
     "metadata": {},
     "output_type": "execute_result"
    }
   ],
   "source": [
    "name[::-1]"
   ]
  },
  {
   "cell_type": "code",
   "execution_count": 32,
   "id": "44029dfa",
   "metadata": {},
   "outputs": [
    {
     "data": {
      "text/plain": [
       "'rmKrkA'"
      ]
     },
     "execution_count": 32,
     "metadata": {},
     "output_type": "execute_result"
    }
   ],
   "source": [
    "name[-1:-(len(name)+1):-2]"
   ]
  },
  {
   "cell_type": "code",
   "execution_count": null,
   "id": "2cda6619",
   "metadata": {},
   "outputs": [],
   "source": []
  },
  {
   "cell_type": "code",
   "execution_count": 33,
   "id": "c09ce579",
   "metadata": {},
   "outputs": [
    {
     "data": {
      "text/plain": [
       "'Ankur kumar'"
      ]
     },
     "execution_count": 33,
     "metadata": {},
     "output_type": "execute_result"
    }
   ],
   "source": [
    "name.capitalize()"
   ]
  },
  {
   "cell_type": "code",
   "execution_count": 34,
   "id": "c7444a2d",
   "metadata": {},
   "outputs": [
    {
     "data": {
      "text/plain": [
       "'ANKUR KUMAR'"
      ]
     },
     "execution_count": 34,
     "metadata": {},
     "output_type": "execute_result"
    }
   ],
   "source": [
    "name.upper()"
   ]
  },
  {
   "cell_type": "code",
   "execution_count": 35,
   "id": "ca204f40",
   "metadata": {},
   "outputs": [],
   "source": [
    "name = 'ankur kumar'"
   ]
  },
  {
   "cell_type": "code",
   "execution_count": 37,
   "id": "324eff94",
   "metadata": {},
   "outputs": [],
   "source": [
    "name1 = name.title()"
   ]
  },
  {
   "cell_type": "code",
   "execution_count": 39,
   "id": "5249580a",
   "metadata": {},
   "outputs": [
    {
     "data": {
      "text/plain": [
       "'Ankur Kumar'"
      ]
     },
     "execution_count": 39,
     "metadata": {},
     "output_type": "execute_result"
    }
   ],
   "source": [
    "name1"
   ]
  },
  {
   "cell_type": "code",
   "execution_count": 40,
   "id": "e592e3ad",
   "metadata": {},
   "outputs": [
    {
     "data": {
      "text/plain": [
       "'ankur kumar'"
      ]
     },
     "execution_count": 40,
     "metadata": {},
     "output_type": "execute_result"
    }
   ],
   "source": [
    "name"
   ]
  },
  {
   "cell_type": "code",
   "execution_count": 41,
   "id": "1eb6a70a",
   "metadata": {},
   "outputs": [
    {
     "data": {
      "text/plain": [
       "'ankur kumar'"
      ]
     },
     "execution_count": 41,
     "metadata": {},
     "output_type": "execute_result"
    }
   ],
   "source": [
    "name1.lower()"
   ]
  },
  {
   "cell_type": "code",
   "execution_count": 43,
   "id": "cddbc8fc",
   "metadata": {},
   "outputs": [],
   "source": [
    "name.find?"
   ]
  },
  {
   "cell_type": "code",
   "execution_count": 48,
   "id": "517b5761",
   "metadata": {},
   "outputs": [
    {
     "data": {
      "text/plain": [
       "2"
      ]
     },
     "execution_count": 48,
     "metadata": {},
     "output_type": "execute_result"
    }
   ],
   "source": [
    "name.find('k')"
   ]
  },
  {
   "cell_type": "code",
   "execution_count": 52,
   "id": "e8ba6db4",
   "metadata": {},
   "outputs": [
    {
     "data": {
      "text/plain": [
       "2"
      ]
     },
     "execution_count": 52,
     "metadata": {},
     "output_type": "execute_result"
    }
   ],
   "source": [
    "name.count('r')"
   ]
  },
  {
   "cell_type": "code",
   "execution_count": 56,
   "id": "f489985d",
   "metadata": {},
   "outputs": [
    {
     "data": {
      "text/plain": [
       "4"
      ]
     },
     "execution_count": 56,
     "metadata": {},
     "output_type": "execute_result"
    }
   ],
   "source": [
    "name.index('r')"
   ]
  },
  {
   "cell_type": "code",
   "execution_count": 57,
   "id": "f5cd4048",
   "metadata": {},
   "outputs": [
    {
     "data": {
      "text/plain": [
       "'Ankur kumAr'"
      ]
     },
     "execution_count": 57,
     "metadata": {},
     "output_type": "execute_result"
    }
   ],
   "source": [
    "name.replace('a','A')"
   ]
  },
  {
   "cell_type": "code",
   "execution_count": 58,
   "id": "a898ff8a",
   "metadata": {},
   "outputs": [
    {
     "data": {
      "text/plain": [
       "'rnkur kumrr'"
      ]
     },
     "execution_count": 58,
     "metadata": {},
     "output_type": "execute_result"
    }
   ],
   "source": [
    "name.replace('a','r')"
   ]
  },
  {
   "cell_type": "code",
   "execution_count": 61,
   "id": "dd12e229",
   "metadata": {},
   "outputs": [
    {
     "data": {
      "text/plain": [
       "['ankur', 'kumar']"
      ]
     },
     "execution_count": 61,
     "metadata": {},
     "output_type": "execute_result"
    }
   ],
   "source": [
    "name.split()"
   ]
  },
  {
   "cell_type": "code",
   "execution_count": 64,
   "id": "708d6b0c",
   "metadata": {},
   "outputs": [
    {
     "data": {
      "text/plain": [
       "['ank', 'r k', 'mar']"
      ]
     },
     "execution_count": 64,
     "metadata": {},
     "output_type": "execute_result"
    }
   ],
   "source": [
    "name.split('u')"
   ]
  },
  {
   "cell_type": "code",
   "execution_count": null,
   "id": "7a847ab5",
   "metadata": {},
   "outputs": [],
   "source": []
  },
  {
   "cell_type": "code",
   "execution_count": 67,
   "id": "322e5c93",
   "metadata": {},
   "outputs": [
    {
     "data": {
      "text/plain": [
       "False"
      ]
     },
     "execution_count": 67,
     "metadata": {},
     "output_type": "execute_result"
    }
   ],
   "source": [
    "name1.isupper()"
   ]
  },
  {
   "cell_type": "code",
   "execution_count": 71,
   "id": "0aaa1b4a",
   "metadata": {},
   "outputs": [
    {
     "data": {
      "text/plain": [
       "'Ankur Kumar'"
      ]
     },
     "execution_count": 71,
     "metadata": {},
     "output_type": "execute_result"
    }
   ],
   "source": [
    "name1"
   ]
  },
  {
   "cell_type": "code",
   "execution_count": 75,
   "id": "3afcc1db",
   "metadata": {},
   "outputs": [],
   "source": [
    "name = name.upper()"
   ]
  },
  {
   "cell_type": "code",
   "execution_count": 76,
   "id": "fb80599e",
   "metadata": {},
   "outputs": [
    {
     "data": {
      "text/plain": [
       "True"
      ]
     },
     "execution_count": 76,
     "metadata": {},
     "output_type": "execute_result"
    }
   ],
   "source": [
    "name.isupper()"
   ]
  },
  {
   "cell_type": "code",
   "execution_count": 77,
   "id": "aaf55189",
   "metadata": {},
   "outputs": [
    {
     "data": {
      "text/plain": [
       "'ANKUR KUMAR'"
      ]
     },
     "execution_count": 77,
     "metadata": {},
     "output_type": "execute_result"
    }
   ],
   "source": [
    "name"
   ]
  },
  {
   "cell_type": "code",
   "execution_count": 74,
   "id": "d1b1df18",
   "metadata": {},
   "outputs": [],
   "source": [
    "name2 = name.lower()"
   ]
  },
  {
   "cell_type": "code",
   "execution_count": 78,
   "id": "11aaeded",
   "metadata": {},
   "outputs": [
    {
     "data": {
      "text/plain": [
       "True"
      ]
     },
     "execution_count": 78,
     "metadata": {},
     "output_type": "execute_result"
    }
   ],
   "source": [
    "name2.islower()"
   ]
  },
  {
   "cell_type": "code",
   "execution_count": 79,
   "id": "fa15e5f9",
   "metadata": {},
   "outputs": [
    {
     "data": {
      "text/plain": [
       "False"
      ]
     },
     "execution_count": 79,
     "metadata": {},
     "output_type": "execute_result"
    }
   ],
   "source": [
    "\"21n\".isnumeric()"
   ]
  },
  {
   "cell_type": "code",
   "execution_count": null,
   "id": "29f2020c",
   "metadata": {},
   "outputs": [],
   "source": []
  },
  {
   "cell_type": "code",
   "execution_count": 80,
   "id": "d54cc7f7",
   "metadata": {},
   "outputs": [
    {
     "data": {
      "text/plain": [
       "False"
      ]
     },
     "execution_count": 80,
     "metadata": {},
     "output_type": "execute_result"
    }
   ],
   "source": [
    "name.isalpha()"
   ]
  },
  {
   "cell_type": "code",
   "execution_count": 81,
   "id": "e4b32310",
   "metadata": {},
   "outputs": [
    {
     "data": {
      "text/plain": [
       "'ANKUR KUMAR'"
      ]
     },
     "execution_count": 81,
     "metadata": {},
     "output_type": "execute_result"
    }
   ],
   "source": [
    "name"
   ]
  },
  {
   "cell_type": "code",
   "execution_count": 82,
   "id": "42a8c423",
   "metadata": {},
   "outputs": [
    {
     "data": {
      "text/plain": [
       "'Ankur Kumar'"
      ]
     },
     "execution_count": 82,
     "metadata": {},
     "output_type": "execute_result"
    }
   ],
   "source": [
    "name1"
   ]
  },
  {
   "cell_type": "code",
   "execution_count": 83,
   "id": "8fcdeb46",
   "metadata": {},
   "outputs": [
    {
     "data": {
      "text/plain": [
       "False"
      ]
     },
     "execution_count": 83,
     "metadata": {},
     "output_type": "execute_result"
    }
   ],
   "source": [
    "name1.isalpha()"
   ]
  },
  {
   "cell_type": "code",
   "execution_count": null,
   "id": "13fbd78c",
   "metadata": {},
   "outputs": [],
   "source": []
  },
  {
   "cell_type": "code",
   "execution_count": 84,
   "id": "7065d9cd",
   "metadata": {},
   "outputs": [],
   "source": [
    "#  String formatting"
   ]
  },
  {
   "cell_type": "code",
   "execution_count": 85,
   "id": "d876ec07",
   "metadata": {},
   "outputs": [
    {
     "name": "stdout",
     "output_type": "stream",
     "text": [
      "Ankur\n",
      "25\n",
      "Hey my name is Ankur . And my age is 25\n"
     ]
    }
   ],
   "source": [
    "name = input()\n",
    "age = input()\n",
    "\n",
    "print(\"Hey my name is\",name,\". And my age is\", age)"
   ]
  },
  {
   "cell_type": "code",
   "execution_count": 86,
   "id": "3d5a51a2",
   "metadata": {},
   "outputs": [
    {
     "name": "stdout",
     "output_type": "stream",
     "text": [
      "Rahul\n",
      "25\n",
      "Hey my name is Rahul. My age is 25\n"
     ]
    }
   ],
   "source": [
    "name = input()\n",
    "age = input()\n",
    "\n",
    "print(\"Hey my name is {}. My age is {}\".format(name,age))"
   ]
  },
  {
   "cell_type": "code",
   "execution_count": 87,
   "id": "639c7b65",
   "metadata": {},
   "outputs": [],
   "source": [
    "# more Advance"
   ]
  },
  {
   "cell_type": "code",
   "execution_count": 90,
   "id": "9659ad0d",
   "metadata": {},
   "outputs": [
    {
     "name": "stdout",
     "output_type": "stream",
     "text": [
      "Hey my name is {name}. My age is {age}\n"
     ]
    }
   ],
   "source": [
    "name = \"Ankur\"\n",
    "age = 25\n",
    "\n",
    "print(\"Hey my name is {name}. My age is {age}\")"
   ]
  },
  {
   "cell_type": "code",
   "execution_count": 91,
   "id": "d46aa1f6",
   "metadata": {},
   "outputs": [
    {
     "name": "stdout",
     "output_type": "stream",
     "text": [
      "Hey my name is Ankur. My age is 25\n"
     ]
    }
   ],
   "source": [
    "name = \"Ankur\"\n",
    "age = 25\n",
    "\n",
    "print(f\"Hey my name is {name}. My age is {age}\")"
   ]
  },
  {
   "cell_type": "code",
   "execution_count": null,
   "id": "a97d4d9e",
   "metadata": {},
   "outputs": [],
   "source": []
  },
  {
   "cell_type": "markdown",
   "id": "50f6e7d1",
   "metadata": {},
   "source": [
    "### String Concatination"
   ]
  },
  {
   "cell_type": "code",
   "execution_count": 93,
   "id": "52637f65",
   "metadata": {},
   "outputs": [
    {
     "name": "stdout",
     "output_type": "stream",
     "text": [
      "Ankur\n",
      "Kumar\n",
      "AnkurKumar\n"
     ]
    }
   ],
   "source": [
    "first = input()\n",
    "second = input()\n",
    "\n",
    "print(first+second)"
   ]
  },
  {
   "cell_type": "code",
   "execution_count": 94,
   "id": "4ff530ff",
   "metadata": {},
   "outputs": [
    {
     "data": {
      "text/plain": [
       "'2a'"
      ]
     },
     "execution_count": 94,
     "metadata": {},
     "output_type": "execute_result"
    }
   ],
   "source": [
    "\"2\"+\"a\""
   ]
  },
  {
   "cell_type": "code",
   "execution_count": 96,
   "id": "47d2e252",
   "metadata": {},
   "outputs": [
    {
     "data": {
      "text/plain": [
       "'aaa'"
      ]
     },
     "execution_count": 96,
     "metadata": {},
     "output_type": "execute_result"
    }
   ],
   "source": [
    "\"a\"+\"a\"+\"a\""
   ]
  },
  {
   "cell_type": "code",
   "execution_count": 97,
   "id": "1b9f4bd9",
   "metadata": {},
   "outputs": [
    {
     "data": {
      "text/plain": [
       "'aaa'"
      ]
     },
     "execution_count": 97,
     "metadata": {},
     "output_type": "execute_result"
    }
   ],
   "source": [
    "\"a\"*3"
   ]
  },
  {
   "cell_type": "code",
   "execution_count": 99,
   "id": "1ff280c7",
   "metadata": {},
   "outputs": [
    {
     "data": {
      "text/plain": [
       "'22'"
      ]
     },
     "execution_count": 99,
     "metadata": {},
     "output_type": "execute_result"
    }
   ],
   "source": [
    "\"2\"+\"2\""
   ]
  },
  {
   "cell_type": "code",
   "execution_count": 100,
   "id": "c8d5c498",
   "metadata": {},
   "outputs": [
    {
     "data": {
      "text/plain": [
       "4"
      ]
     },
     "execution_count": 100,
     "metadata": {},
     "output_type": "execute_result"
    }
   ],
   "source": [
    "2+2"
   ]
  },
  {
   "cell_type": "code",
   "execution_count": 101,
   "id": "ccaf12ce",
   "metadata": {},
   "outputs": [
    {
     "ename": "TypeError",
     "evalue": "can't multiply sequence by non-int of type 'str'",
     "output_type": "error",
     "traceback": [
      "\u001b[1;31m---------------------------------------------------------------------------\u001b[0m",
      "\u001b[1;31mTypeError\u001b[0m                                 Traceback (most recent call last)",
      "Cell \u001b[1;32mIn[101], line 1\u001b[0m\n\u001b[1;32m----> 1\u001b[0m \u001b[38;5;124;43m\"\u001b[39;49m\u001b[38;5;124;43mAnkur\u001b[39;49m\u001b[38;5;124;43m\"\u001b[39;49m\u001b[38;5;241;43m*\u001b[39;49m\u001b[38;5;124;43m\"\u001b[39;49m\u001b[38;5;124;43mname\u001b[39;49m\u001b[38;5;124;43m\"\u001b[39;49m\n",
      "\u001b[1;31mTypeError\u001b[0m: can't multiply sequence by non-int of type 'str'"
     ]
    }
   ],
   "source": [
    "\"Ankur\"*\"name\""
   ]
  },
  {
   "cell_type": "code",
   "execution_count": null,
   "id": "904ba25b",
   "metadata": {},
   "outputs": [],
   "source": []
  },
  {
   "cell_type": "markdown",
   "id": "30d083a6",
   "metadata": {},
   "source": [
    "### Print Vowels"
   ]
  },
  {
   "cell_type": "code",
   "execution_count": 102,
   "id": "80418dc0",
   "metadata": {},
   "outputs": [],
   "source": [
    "text = \"The quick brown fox jumps over the lazy dog\""
   ]
  },
  {
   "cell_type": "code",
   "execution_count": 106,
   "id": "c054f135",
   "metadata": {},
   "outputs": [
    {
     "name": "stdout",
     "output_type": "stream",
     "text": [
      "T\n",
      "h\n",
      "e\n",
      " \n",
      "q\n",
      "u\n",
      "i\n",
      "c\n",
      "k\n",
      " \n",
      "b\n",
      "r\n",
      "o\n",
      "w\n",
      "n\n",
      " \n",
      "f\n",
      "o\n",
      "x\n",
      " \n",
      "j\n",
      "u\n",
      "m\n",
      "p\n",
      "s\n",
      " \n",
      "o\n",
      "v\n",
      "e\n",
      "r\n",
      " \n",
      "t\n",
      "h\n",
      "e\n",
      " \n",
      "l\n",
      "a\n",
      "z\n",
      "y\n",
      " \n",
      "d\n",
      "o\n",
      "g\n"
     ]
    }
   ],
   "source": [
    "for i in text:\n",
    "    print(i)"
   ]
  },
  {
   "cell_type": "code",
   "execution_count": 109,
   "id": "7a5919e3",
   "metadata": {},
   "outputs": [
    {
     "name": "stdout",
     "output_type": "stream",
     "text": [
      "e\n",
      "u\n",
      "i\n",
      "o\n",
      "o\n",
      "u\n",
      "o\n",
      "e\n",
      "e\n",
      "a\n",
      "o\n"
     ]
    }
   ],
   "source": [
    "for i in text:\n",
    "    if i=='a'or i=='e'or i=='i'or i=='o' or i =='u':\n",
    "        print(i)"
   ]
  },
  {
   "cell_type": "code",
   "execution_count": null,
   "id": "970a01e1",
   "metadata": {},
   "outputs": [],
   "source": []
  },
  {
   "cell_type": "markdown",
   "id": "b793db1a",
   "metadata": {},
   "source": [
    "### Check if string is pallindrome or not\n",
    "\n",
    "~A string is said to be pallindrome if the reverse of the string is the same as string.\n",
    "\n",
    "~For example, \"radar\" is a pallindrome, but \"radix\" is not."
   ]
  },
  {
   "cell_type": "code",
   "execution_count": 118,
   "id": "fcf49709",
   "metadata": {},
   "outputs": [
    {
     "name": "stdout",
     "output_type": "stream",
     "text": [
      "Yes\n"
     ]
    }
   ],
   "source": [
    "s = \"kamak\"\n",
    "\n",
    "# rec is [::-1], using slicing\n",
    "if s == s[::-1]:\n",
    "    print(\"Yes\")\n",
    "else:\n",
    "    print(\"No\")"
   ]
  },
  {
   "cell_type": "code",
   "execution_count": 122,
   "id": "8d00240c",
   "metadata": {
    "scrolled": true
   },
   "outputs": [
    {
     "ename": "SyntaxError",
     "evalue": "invalid syntax (913043970.py, line 1)",
     "output_type": "error",
     "traceback": [
      "\u001b[1;36m  Cell \u001b[1;32mIn[122], line 1\u001b[1;36m\u001b[0m\n\u001b[1;33m    A[]\u001b[0m\n\u001b[1;37m      ^\u001b[0m\n\u001b[1;31mSyntaxError\u001b[0m\u001b[1;31m:\u001b[0m invalid syntax\n"
     ]
    }
   ],
   "source": []
  },
  {
   "cell_type": "code",
   "execution_count": null,
   "id": "d7d6759d",
   "metadata": {},
   "outputs": [],
   "source": []
  }
 ],
 "metadata": {
  "kernelspec": {
   "display_name": "Python 3 (ipykernel)",
   "language": "python",
   "name": "python3"
  },
  "language_info": {
   "codemirror_mode": {
    "name": "ipython",
    "version": 3
   },
   "file_extension": ".py",
   "mimetype": "text/x-python",
   "name": "python",
   "nbconvert_exporter": "python",
   "pygments_lexer": "ipython3",
   "version": "3.11.5"
  }
 },
 "nbformat": 4,
 "nbformat_minor": 5
}
