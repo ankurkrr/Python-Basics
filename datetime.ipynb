{
 "cells": [
  {
   "cell_type": "code",
   "execution_count": 6,
   "id": "ea7076ea",
   "metadata": {},
   "outputs": [],
   "source": [
    "import datetime"
   ]
  },
  {
   "cell_type": "code",
   "execution_count": 12,
   "id": "b048cf57",
   "metadata": {},
   "outputs": [],
   "source": [
    "d = datetime.date(2016,7,24)"
   ]
  },
  {
   "cell_type": "code",
   "execution_count": 9,
   "id": "ae495531",
   "metadata": {},
   "outputs": [
    {
     "name": "stdout",
     "output_type": "stream",
     "text": [
      "2016-07-24\n"
     ]
    }
   ],
   "source": [
    "print(d)"
   ]
  },
  {
   "cell_type": "code",
   "execution_count": 19,
   "id": "b9c596d1",
   "metadata": {},
   "outputs": [],
   "source": [
    "tday = datetime.date.today()"
   ]
  },
  {
   "cell_type": "code",
   "execution_count": 20,
   "id": "3c9c6300",
   "metadata": {},
   "outputs": [
    {
     "name": "stdout",
     "output_type": "stream",
     "text": [
      "2024-02-23\n"
     ]
    }
   ],
   "source": [
    "print(tday)"
   ]
  },
  {
   "cell_type": "code",
   "execution_count": 21,
   "id": "cfcf46e7",
   "metadata": {},
   "outputs": [
    {
     "data": {
      "text/plain": [
       "5"
      ]
     },
     "execution_count": 21,
     "metadata": {},
     "output_type": "execute_result"
    }
   ],
   "source": [
    "tday.isoweekday()"
   ]
  },
  {
   "cell_type": "code",
   "execution_count": 22,
   "id": "c18a7cb2",
   "metadata": {},
   "outputs": [],
   "source": [
    "tdelta = datetime.timedelta(days=7)"
   ]
  },
  {
   "cell_type": "code",
   "execution_count": 23,
   "id": "a1b74824",
   "metadata": {},
   "outputs": [
    {
     "name": "stdout",
     "output_type": "stream",
     "text": [
      "2024-03-01\n"
     ]
    }
   ],
   "source": [
    "print(tday + tdelta)"
   ]
  },
  {
   "cell_type": "code",
   "execution_count": 25,
   "id": "69edf5bc",
   "metadata": {},
   "outputs": [
    {
     "name": "stdout",
     "output_type": "stream",
     "text": [
      "2024-02-16\n"
     ]
    }
   ],
   "source": [
    "print(tday - tdelta)"
   ]
  },
  {
   "cell_type": "code",
   "execution_count": 32,
   "id": "ca1b7937",
   "metadata": {},
   "outputs": [],
   "source": [
    "bday = datetime.date(2016,9,12)"
   ]
  },
  {
   "cell_type": "code",
   "execution_count": 33,
   "id": "7b76a0be",
   "metadata": {},
   "outputs": [],
   "source": [
    "till_bday = bday - tday"
   ]
  },
  {
   "cell_type": "code",
   "execution_count": 34,
   "id": "dd709181",
   "metadata": {},
   "outputs": [
    {
     "name": "stdout",
     "output_type": "stream",
     "text": [
      "-235008000.0\n"
     ]
    }
   ],
   "source": [
    "print(till_bday.total_seconds())"
   ]
  },
  {
   "cell_type": "code",
   "execution_count": null,
   "id": "75fa808f",
   "metadata": {},
   "outputs": [],
   "source": []
  }
 ],
 "metadata": {
  "kernelspec": {
   "display_name": "Python 3 (ipykernel)",
   "language": "python",
   "name": "python3"
  },
  "language_info": {
   "codemirror_mode": {
    "name": "ipython",
    "version": 3
   },
   "file_extension": ".py",
   "mimetype": "text/x-python",
   "name": "python",
   "nbconvert_exporter": "python",
   "pygments_lexer": "ipython3",
   "version": "3.11.5"
  }
 },
 "nbformat": 4,
 "nbformat_minor": 5
}
