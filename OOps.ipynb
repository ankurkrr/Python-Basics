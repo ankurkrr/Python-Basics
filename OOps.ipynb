{
 "cells": [
  {
   "cell_type": "markdown",
   "id": "72875ba1",
   "metadata": {},
   "source": [
    "# OOPs\n",
    "\n",
    "Object oriented programming\n",
    "\n",
    "The principles of OOPs are based on 4 Pillars apart from class and objects\n",
    "\n",
    "A class has attributes and behaviour"
   ]
  },
  {
   "cell_type": "markdown",
   "id": "4eb208f0",
   "metadata": {},
   "source": [
    "### OOPs Four Pillars:-\n",
    "    Encapsulation\n",
    "    Abstraction\n",
    "    Polymorphism\n",
    "    Inheritance\n",
    "    Class\n",
    "    Object"
   ]
  },
  {
   "cell_type": "markdown",
   "id": "a927d16b",
   "metadata": {},
   "source": [
    "#### Abstraction\n",
    "\n",
    "Abstraction means displaying only essential information and hiding the details.\n",
    "\n",
    "Example: Car will accelerate but internal working of engine not exposed"
   ]
  },
  {
   "cell_type": "markdown",
   "id": "20660df6",
   "metadata": {},
   "source": [
    "#### Encapsualtion\n",
    "\n",
    "Bundling of data into a single unit.\n",
    "\n",
    "Bundling of all methods that can act an object of that data\n",
    "\n",
    "Car can have colors, brake, engine and a lot of other methods"
   ]
  },
  {
   "cell_type": "markdown",
   "id": "afafc851",
   "metadata": {},
   "source": [
    "#### Inheritance\n",
    "\n",
    "When a class derives from another class\n",
    "\n",
    "Any new car company can inherit all the informatuon from car class"
   ]
  },
  {
   "cell_type": "markdown",
   "id": "032c7388",
   "metadata": {},
   "source": [
    "# Polymorphisim\n",
    "\n",
    "Means having many forms.\n",
    "\n",
    "Same class method can work diffrently for diffrent objects"
   ]
  },
  {
   "cell_type": "code",
   "execution_count": null,
   "id": "7d84aa5a",
   "metadata": {},
   "outputs": [],
   "source": []
  },
  {
   "cell_type": "markdown",
   "id": "718aacb8",
   "metadata": {},
   "source": [
    "# Creating Classes\n",
    "\n",
    "It's a bluprint to create objects\n",
    "\n",
    "The classes keyword is used to create classes\n",
    "\n",
    "By genral conversion we start name with capital letter\n",
    "\n",
    "Exampe: int, float, string etc."
   ]
  },
  {
   "cell_type": "code",
   "execution_count": null,
   "id": "3d0fd260",
   "metadata": {},
   "outputs": [],
   "source": []
  },
  {
   "cell_type": "code",
   "execution_count": null,
   "id": "d2dee0aa",
   "metadata": {},
   "outputs": [],
   "source": [
    "class Car:\n",
    "    pass"
   ]
  },
  {
   "cell_type": "code",
   "execution_count": null,
   "id": "965b43bc",
   "metadata": {},
   "outputs": [],
   "source": []
  },
  {
   "cell_type": "markdown",
   "id": "af3eee32",
   "metadata": {},
   "source": [
    "# Objects"
   ]
  },
  {
   "cell_type": "markdown",
   "id": "829de992",
   "metadata": {},
   "source": [
    "Objects are instances or entities of a class"
   ]
  },
  {
   "cell_type": "markdown",
   "id": "868eb64c",
   "metadata": {},
   "source": [
    "it has all the properties of it's class"
   ]
  },
  {
   "cell_type": "markdown",
   "id": "ef9e1a6c",
   "metadata": {},
   "source": [
    "eg: 1,2 are objects of int class"
   ]
  },
  {
   "cell_type": "code",
   "execution_count": null,
   "id": "f7a60587",
   "metadata": {},
   "outputs": [],
   "source": [
    "honda = Car()"
   ]
  },
  {
   "cell_type": "code",
   "execution_count": null,
   "id": "8aa8f2dd",
   "metadata": {},
   "outputs": [],
   "source": [
    "type(honda)"
   ]
  },
  {
   "cell_type": "code",
   "execution_count": null,
   "id": "2ce5c4ec",
   "metadata": {},
   "outputs": [],
   "source": []
  },
  {
   "cell_type": "code",
   "execution_count": null,
   "id": "43b3d3f5",
   "metadata": {},
   "outputs": [],
   "source": [
    "type(1)"
   ]
  },
  {
   "cell_type": "code",
   "execution_count": null,
   "id": "63f66f6d",
   "metadata": {},
   "outputs": [],
   "source": [
    "type('Rahul')"
   ]
  },
  {
   "cell_type": "code",
   "execution_count": null,
   "id": "dab8bfd7",
   "metadata": {},
   "outputs": [],
   "source": []
  },
  {
   "cell_type": "code",
   "execution_count": null,
   "id": "650ec71f",
   "metadata": {},
   "outputs": [],
   "source": []
  },
  {
   "cell_type": "markdown",
   "id": "099e81c6",
   "metadata": {},
   "source": [
    "# Constructor\n",
    "\n",
    "A contructor is a special method used to create and intialize an object and a class.\n",
    "\n",
    "This method defined in the class.\n",
    "\n",
    "The constructor is executed automatically at the time of object creation."
   ]
  },
  {
   "cell_type": "code",
   "execution_count": null,
   "id": "8a62c8b8",
   "metadata": {},
   "outputs": [],
   "source": [
    "class Human:\n",
    "    # i want to some properties to be with every human objects\n",
    "    # dunder __\n",
    "    \n",
    "    def __init__(self):\n",
    "        print('This will always print')"
   ]
  },
  {
   "cell_type": "code",
   "execution_count": null,
   "id": "62617eb8",
   "metadata": {},
   "outputs": [],
   "source": [
    "ankur = Human()"
   ]
  },
  {
   "cell_type": "code",
   "execution_count": null,
   "id": "22735246",
   "metadata": {},
   "outputs": [],
   "source": [
    "emma = Human()"
   ]
  },
  {
   "cell_type": "code",
   "execution_count": null,
   "id": "a7ed425a",
   "metadata": {},
   "outputs": [],
   "source": [
    "type(ankur)"
   ]
  },
  {
   "cell_type": "code",
   "execution_count": null,
   "id": "6fac2d9e",
   "metadata": {},
   "outputs": [],
   "source": [
    "type(emma)"
   ]
  },
  {
   "cell_type": "code",
   "execution_count": null,
   "id": "ac776d7a",
   "metadata": {},
   "outputs": [],
   "source": [
    "class Human:\n",
    "    # i want to some properties to be with every human objects\n",
    "    # dunder __\n",
    "    \n",
    "    def __init__(self, name, age, hobby):\n",
    "        self.name = name\n",
    "        self.age = age\n",
    "        self.hobby = hobby"
   ]
  },
  {
   "cell_type": "code",
   "execution_count": null,
   "id": "362e0776",
   "metadata": {},
   "outputs": [],
   "source": [
    "ankur = Human(\"Ankur\",25,\"Swimming\")"
   ]
  },
  {
   "cell_type": "code",
   "execution_count": null,
   "id": "21e26d44",
   "metadata": {},
   "outputs": [],
   "source": [
    "emma = Human(\"Emma\",32,\"Film making\")"
   ]
  },
  {
   "cell_type": "code",
   "execution_count": null,
   "id": "3ec1b5d2",
   "metadata": {},
   "outputs": [],
   "source": [
    "print(ankur)"
   ]
  },
  {
   "cell_type": "code",
   "execution_count": null,
   "id": "520c4fde",
   "metadata": {},
   "outputs": [],
   "source": [
    "ankur.name"
   ]
  },
  {
   "cell_type": "code",
   "execution_count": null,
   "id": "432b21c0",
   "metadata": {},
   "outputs": [],
   "source": [
    "ankur.hobby"
   ]
  },
  {
   "cell_type": "code",
   "execution_count": null,
   "id": "f384a019",
   "metadata": {},
   "outputs": [],
   "source": [
    "emma.name"
   ]
  },
  {
   "cell_type": "code",
   "execution_count": null,
   "id": "e5506504",
   "metadata": {},
   "outputs": [],
   "source": [
    "emma.age"
   ]
  },
  {
   "cell_type": "code",
   "execution_count": null,
   "id": "9d39179b",
   "metadata": {},
   "outputs": [],
   "source": [
    "emma.hobby"
   ]
  },
  {
   "cell_type": "code",
   "execution_count": null,
   "id": "5c57e71c",
   "metadata": {},
   "outputs": [],
   "source": [
    "type(ankur)"
   ]
  },
  {
   "cell_type": "code",
   "execution_count": null,
   "id": "a62e1c07",
   "metadata": {},
   "outputs": [],
   "source": []
  },
  {
   "cell_type": "code",
   "execution_count": null,
   "id": "91a8e264",
   "metadata": {},
   "outputs": [],
   "source": []
  },
  {
   "cell_type": "markdown",
   "id": "761d8025",
   "metadata": {},
   "source": [
    "# Methods\n",
    "\n",
    "Apart from special methods you can make your custom methods\n",
    "\n",
    "Example: Humans can speak, greet etc."
   ]
  },
  {
   "cell_type": "code",
   "execution_count": null,
   "id": "337673f2",
   "metadata": {},
   "outputs": [],
   "source": [
    "class Human:\n",
    "    #constructor\n",
    "    def __init__(self, name, age, hobby):\n",
    "        \n",
    "        # These are known as attributed of an object\n",
    "        self.name = name\n",
    "        self.age = age\n",
    "        self.hobby = hobby\n",
    "        \n",
    "    # methods\n",
    "    \n",
    "    def greet(self):\n",
    "        print(f\"Hey my name is, {self.name}. How are you doing?\")"
   ]
  },
  {
   "cell_type": "code",
   "execution_count": null,
   "id": "8a76adad",
   "metadata": {},
   "outputs": [],
   "source": [
    "ankur = Human(\"Ankur\",25,\"Swimming\")"
   ]
  },
  {
   "cell_type": "code",
   "execution_count": null,
   "id": "2b0589b0",
   "metadata": {},
   "outputs": [],
   "source": [
    "ankur.greet()"
   ]
  },
  {
   "cell_type": "code",
   "execution_count": null,
   "id": "fdfaa9c0",
   "metadata": {},
   "outputs": [],
   "source": [
    "emma = Human(\"Emma\",32,\"Film making\")"
   ]
  },
  {
   "cell_type": "code",
   "execution_count": null,
   "id": "a182d2bb",
   "metadata": {},
   "outputs": [],
   "source": [
    "emma.greet()"
   ]
  },
  {
   "cell_type": "code",
   "execution_count": null,
   "id": "92c38c06",
   "metadata": {},
   "outputs": [],
   "source": [
    "ankur.nationality = \"India\""
   ]
  },
  {
   "cell_type": "code",
   "execution_count": null,
   "id": "f54a843f",
   "metadata": {},
   "outputs": [],
   "source": [
    "ankur.nationality"
   ]
  },
  {
   "cell_type": "code",
   "execution_count": null,
   "id": "a5f8c036",
   "metadata": {},
   "outputs": [],
   "source": [
    "emma.hobby = \"Social service\""
   ]
  },
  {
   "cell_type": "code",
   "execution_count": null,
   "id": "010f908e",
   "metadata": {},
   "outputs": [],
   "source": [
    "emma.hobby"
   ]
  },
  {
   "cell_type": "code",
   "execution_count": null,
   "id": "0c523324",
   "metadata": {},
   "outputs": [],
   "source": []
  },
  {
   "cell_type": "code",
   "execution_count": null,
   "id": "8e9a633d",
   "metadata": {},
   "outputs": [],
   "source": []
  },
  {
   "cell_type": "markdown",
   "id": "e5c99adf",
   "metadata": {},
   "source": [
    "# ClaSS Variable\n",
    "\n",
    "There are common to the class\n",
    "\n",
    "Example: Population of human class is common to all objects\n"
   ]
  },
  {
   "cell_type": "code",
   "execution_count": null,
   "id": "6a7b7188",
   "metadata": {},
   "outputs": [],
   "source": [
    "class Human:\n",
    "    \n",
    "    # class variables\n",
    "    population = 0\n",
    "    data = []\n",
    "    \n",
    "    #constructor\n",
    "    def __init__(self, name, age):\n",
    "        \n",
    "        # These are known as attributed of an object\n",
    "        self.name = name\n",
    "        self.age = age  \n",
    "        \n",
    "        # increament population for every new human object\n",
    "        Human.population += 1\n",
    "        Human.data.append(self.name)\n",
    "        \n",
    "        \n",
    "    # methods\n",
    "    \n",
    "    def greet(self):\n",
    "        print(f\"Hey name is, {self.name}. How are you doing?\")"
   ]
  },
  {
   "cell_type": "code",
   "execution_count": null,
   "id": "4b9bba7b",
   "metadata": {},
   "outputs": [],
   "source": [
    "ankur = Human('Ankur', 35)"
   ]
  },
  {
   "cell_type": "code",
   "execution_count": null,
   "id": "915fbdf0",
   "metadata": {},
   "outputs": [],
   "source": [
    "ankur.name"
   ]
  },
  {
   "cell_type": "code",
   "execution_count": null,
   "id": "980f9fc2",
   "metadata": {},
   "outputs": [],
   "source": [
    "Human.population"
   ]
  },
  {
   "cell_type": "code",
   "execution_count": null,
   "id": "a155e006",
   "metadata": {},
   "outputs": [],
   "source": [
    "ankur.population"
   ]
  },
  {
   "cell_type": "code",
   "execution_count": null,
   "id": "e796575a",
   "metadata": {},
   "outputs": [],
   "source": [
    "emma = Human('Emma',32)"
   ]
  },
  {
   "cell_type": "code",
   "execution_count": null,
   "id": "be04c18e",
   "metadata": {},
   "outputs": [],
   "source": [
    "emma.population"
   ]
  },
  {
   "cell_type": "code",
   "execution_count": null,
   "id": "8bb0c6f4",
   "metadata": {},
   "outputs": [],
   "source": [
    "Human.data"
   ]
  },
  {
   "cell_type": "code",
   "execution_count": null,
   "id": "91f368f8",
   "metadata": {},
   "outputs": [],
   "source": [
    "rahul = Human('rahul',27)"
   ]
  },
  {
   "cell_type": "code",
   "execution_count": null,
   "id": "1f54cad7",
   "metadata": {},
   "outputs": [],
   "source": [
    "Human.population"
   ]
  },
  {
   "cell_type": "code",
   "execution_count": null,
   "id": "caf5a546",
   "metadata": {},
   "outputs": [],
   "source": [
    "Human.data"
   ]
  },
  {
   "cell_type": "code",
   "execution_count": null,
   "id": "a459055b",
   "metadata": {},
   "outputs": [],
   "source": []
  },
  {
   "cell_type": "code",
   "execution_count": null,
   "id": "1bcb910e",
   "metadata": {},
   "outputs": [],
   "source": []
  },
  {
   "cell_type": "code",
   "execution_count": null,
   "id": "a7e57930",
   "metadata": {},
   "outputs": [],
   "source": []
  },
  {
   "cell_type": "markdown",
   "id": "ab0985a6",
   "metadata": {},
   "source": [
    "# More Methods"
   ]
  },
  {
   "cell_type": "code",
   "execution_count": null,
   "id": "2c6f330d",
   "metadata": {},
   "outputs": [],
   "source": [
    "class Human:\n",
    "    \n",
    "    # class variables\n",
    "    population = 0\n",
    "    data = []\n",
    "    \n",
    "    #constructor\n",
    "    def __init__(self, name, age):\n",
    "        \n",
    "        # These are known as attributed of an object\n",
    "        self.name = name\n",
    "        self.age = age  \n",
    "        \n",
    "        # increament population for every new human object\n",
    "        Human.population += 1\n",
    "        Human.data.append(self.name)\n",
    "        \n",
    "        \n",
    "    # methods\n",
    "    \n",
    "    def greet(self):\n",
    "        print(f\"Hey name is, {self.name}. How are you doing?\")\n",
    "        \n",
    "    \n",
    "    def dead(self):\n",
    "        print(self.name, \"is no more in room\")\n",
    "        Human.population -= 1"
   ]
  },
  {
   "cell_type": "code",
   "execution_count": null,
   "id": "93a156f3",
   "metadata": {},
   "outputs": [],
   "source": [
    "h1 = Human('h1',89)\n",
    "h2 = Human('h2',92)"
   ]
  },
  {
   "cell_type": "code",
   "execution_count": null,
   "id": "89cdc239",
   "metadata": {},
   "outputs": [],
   "source": [
    "Human.population"
   ]
  },
  {
   "cell_type": "code",
   "execution_count": null,
   "id": "2269e9a8",
   "metadata": {},
   "outputs": [],
   "source": [
    "h1.dead()"
   ]
  },
  {
   "cell_type": "code",
   "execution_count": null,
   "id": "0a7b643f",
   "metadata": {},
   "outputs": [],
   "source": [
    "Human.population"
   ]
  },
  {
   "cell_type": "code",
   "execution_count": 1,
   "id": "c8bc0031",
   "metadata": {},
   "outputs": [],
   "source": [
    "class Human:\n",
    "    \n",
    "    # class variables\n",
    "    population = 0\n",
    "    data = []\n",
    "    \n",
    "    #constructor\n",
    "    def __init__(self, name, age, alive = True):\n",
    "        \n",
    "        # These are known as attributed of an object\n",
    "        self.name = name\n",
    "        self.age = age  \n",
    "        self.alive = alive\n",
    "        \n",
    "        \n",
    "        # increament population for every new human object\n",
    "        Human.population += 1\n",
    "        Human.data.append(self.name)\n",
    "        \n",
    "        \n",
    "    # methods\n",
    "    \n",
    "    def greet(self):\n",
    "        print(f\"Hey name is, {self.name}. How are you doing?\")\n",
    "        \n",
    "    \n",
    "    def dead(self):\n",
    "        if self.alive:\n",
    "            print(self.name, \"is no more in room\")\n",
    "            Human.population -= 1\n",
    "            self.alive = False\n",
    "        \n",
    "        else:\n",
    "            print(\"This person is already dead\")\n",
    "            \n",
    "    def child(self,number):\n",
    "        Human.population += number"
   ]
  },
  {
   "cell_type": "code",
   "execution_count": 2,
   "id": "6ac70464",
   "metadata": {},
   "outputs": [],
   "source": [
    "h1 = Human('h1',89)\n",
    "h2 = Human('h2',92)"
   ]
  },
  {
   "cell_type": "code",
   "execution_count": 3,
   "id": "e01d5910",
   "metadata": {},
   "outputs": [
    {
     "data": {
      "text/plain": [
       "2"
      ]
     },
     "execution_count": 3,
     "metadata": {},
     "output_type": "execute_result"
    }
   ],
   "source": [
    "Human.population"
   ]
  },
  {
   "cell_type": "code",
   "execution_count": 4,
   "id": "aba3a3b5",
   "metadata": {},
   "outputs": [
    {
     "name": "stdout",
     "output_type": "stream",
     "text": [
      "h1 is no more in room\n"
     ]
    }
   ],
   "source": [
    "h1.dead()"
   ]
  },
  {
   "cell_type": "code",
   "execution_count": 5,
   "id": "6fe60fe4",
   "metadata": {},
   "outputs": [
    {
     "data": {
      "text/plain": [
       "1"
      ]
     },
     "execution_count": 5,
     "metadata": {},
     "output_type": "execute_result"
    }
   ],
   "source": [
    "Human.population"
   ]
  },
  {
   "cell_type": "code",
   "execution_count": 6,
   "id": "cf2df338",
   "metadata": {},
   "outputs": [],
   "source": [
    "h3 = Human('Adam',25)"
   ]
  },
  {
   "cell_type": "code",
   "execution_count": 7,
   "id": "5886c06f",
   "metadata": {},
   "outputs": [
    {
     "data": {
      "text/plain": [
       "2"
      ]
     },
     "execution_count": 7,
     "metadata": {},
     "output_type": "execute_result"
    }
   ],
   "source": [
    "Human.population"
   ]
  },
  {
   "cell_type": "code",
   "execution_count": 8,
   "id": "5a1cd197",
   "metadata": {},
   "outputs": [],
   "source": [
    "h3.child(2)"
   ]
  },
  {
   "cell_type": "code",
   "execution_count": 9,
   "id": "95774047",
   "metadata": {},
   "outputs": [
    {
     "data": {
      "text/plain": [
       "4"
      ]
     },
     "execution_count": 9,
     "metadata": {},
     "output_type": "execute_result"
    }
   ],
   "source": [
    "Human.population"
   ]
  },
  {
   "cell_type": "code",
   "execution_count": null,
   "id": "b3780324",
   "metadata": {},
   "outputs": [],
   "source": []
  },
  {
   "cell_type": "code",
   "execution_count": null,
   "id": "6eb52ad2",
   "metadata": {},
   "outputs": [],
   "source": []
  },
  {
   "cell_type": "code",
   "execution_count": null,
   "id": "6ab12fb3",
   "metadata": {},
   "outputs": [],
   "source": []
  },
  {
   "cell_type": "markdown",
   "id": "9776d60b",
   "metadata": {},
   "source": [
    "# Inheritance\n",
    "\n",
    "When a class derives every attributes and methods from other class\n",
    "\n",
    "It gets access to all its methods and attributes\n",
    "\n",
    "This helps in reusabillity of code"
   ]
  },
  {
   "cell_type": "code",
   "execution_count": 10,
   "id": "99a4b9d3",
   "metadata": {},
   "outputs": [],
   "source": [
    "class Human:\n",
    "    \n",
    "    # class variables\n",
    "    population = 0\n",
    "    data = []\n",
    "    \n",
    "    #constructor\n",
    "    def __init__(self, name, age, alive = True):\n",
    "        \n",
    "        # These are known as attributed of an object\n",
    "        self.name = name\n",
    "        self.age = age  \n",
    "        self.alive = alive\n",
    "        \n",
    "        \n",
    "        # increament population for every new human object\n",
    "        Human.population += 1\n",
    "        Human.data.append(self.name)\n",
    "        \n",
    "        \n",
    "    # methods\n",
    "    \n",
    "    def greet(self):\n",
    "        print(f\"Hey name is, {self.name}. How are you doing?\")\n",
    "        \n",
    "    \n",
    "    def dead(self):\n",
    "        if self.alive:\n",
    "            print(self.name, \"is no more in room\")\n",
    "            Human.population -= 1\n",
    "            self.alive = False\n",
    "        \n",
    "        else:\n",
    "            print(\"This person is already dead\")\n",
    "            \n",
    "    def child(self,number):\n",
    "        Human.population += number"
   ]
  },
  {
   "cell_type": "code",
   "execution_count": 11,
   "id": "ef907bbb",
   "metadata": {},
   "outputs": [],
   "source": [
    "ankur = Human('Ankur',25)"
   ]
  },
  {
   "cell_type": "code",
   "execution_count": 12,
   "id": "e599bda5",
   "metadata": {},
   "outputs": [],
   "source": [
    "emma = Human('Emma',32)"
   ]
  },
  {
   "cell_type": "code",
   "execution_count": 13,
   "id": "8eaebc80",
   "metadata": {},
   "outputs": [
    {
     "data": {
      "text/plain": [
       "2"
      ]
     },
     "execution_count": 13,
     "metadata": {},
     "output_type": "execute_result"
    }
   ],
   "source": [
    "Human.population"
   ]
  },
  {
   "cell_type": "code",
   "execution_count": null,
   "id": "9c9aa940",
   "metadata": {},
   "outputs": [],
   "source": [
    "# Inheritance\n",
    "# Human is base class\n",
    "# Employee is Derived classs"
   ]
  },
  {
   "cell_type": "code",
   "execution_count": 14,
   "id": "4edf40fa",
   "metadata": {},
   "outputs": [],
   "source": [
    "class Employee(Human):\n",
    "    pass"
   ]
  },
  {
   "cell_type": "code",
   "execution_count": 15,
   "id": "8a7879ae",
   "metadata": {},
   "outputs": [],
   "source": [
    "e1 = Employee('Ankur',25)"
   ]
  },
  {
   "cell_type": "code",
   "execution_count": 16,
   "id": "acbe87ee",
   "metadata": {},
   "outputs": [
    {
     "data": {
      "text/plain": [
       "3"
      ]
     },
     "execution_count": 16,
     "metadata": {},
     "output_type": "execute_result"
    }
   ],
   "source": [
    "Human.population"
   ]
  },
  {
   "cell_type": "code",
   "execution_count": 17,
   "id": "29818578",
   "metadata": {},
   "outputs": [
    {
     "data": {
      "text/plain": [
       "['Ankur', 'Emma', 'Ankur']"
      ]
     },
     "execution_count": 17,
     "metadata": {},
     "output_type": "execute_result"
    }
   ],
   "source": [
    "Human.data"
   ]
  },
  {
   "cell_type": "code",
   "execution_count": 18,
   "id": "2f2defb7",
   "metadata": {},
   "outputs": [
    {
     "name": "stdout",
     "output_type": "stream",
     "text": [
      "Hey name is, Ankur. How are you doing?\n"
     ]
    }
   ],
   "source": [
    "e1.greet()"
   ]
  },
  {
   "cell_type": "code",
   "execution_count": null,
   "id": "45262c96",
   "metadata": {},
   "outputs": [],
   "source": []
  },
  {
   "cell_type": "code",
   "execution_count": 19,
   "id": "5fb33cba",
   "metadata": {},
   "outputs": [],
   "source": [
    "class Employee(Human):\n",
    "    \n",
    "    # re inititae constructor\n",
    "    def __init__(self,name, age, company, post):\n",
    "        super().__init__(name,age)\n",
    "        \n",
    "        # attribute for employee class\n",
    "        self.company = company\n",
    "        self.post = post"
   ]
  },
  {
   "cell_type": "code",
   "execution_count": 20,
   "id": "39068c8a",
   "metadata": {},
   "outputs": [],
   "source": [
    "ankur = Human('Ankur',25)\n",
    "emma = Human('Emma',32)"
   ]
  },
  {
   "cell_type": "code",
   "execution_count": 21,
   "id": "8ce780a2",
   "metadata": {},
   "outputs": [
    {
     "data": {
      "text/plain": [
       "5"
      ]
     },
     "execution_count": 21,
     "metadata": {},
     "output_type": "execute_result"
    }
   ],
   "source": [
    "Human.population"
   ]
  },
  {
   "cell_type": "code",
   "execution_count": 22,
   "id": "f1c32381",
   "metadata": {},
   "outputs": [],
   "source": [
    "rohit = Employee('rohit', 26, 'google', 'ceo')"
   ]
  },
  {
   "cell_type": "code",
   "execution_count": 23,
   "id": "c37b7fe4",
   "metadata": {},
   "outputs": [
    {
     "data": {
      "text/plain": [
       "['Ankur', 'Emma', 'Ankur', 'Ankur', 'Emma', 'rohit']"
      ]
     },
     "execution_count": 23,
     "metadata": {},
     "output_type": "execute_result"
    }
   ],
   "source": [
    "Human.data"
   ]
  },
  {
   "cell_type": "code",
   "execution_count": 24,
   "id": "a6b86d80",
   "metadata": {},
   "outputs": [
    {
     "data": {
      "text/plain": [
       "6"
      ]
     },
     "execution_count": 24,
     "metadata": {},
     "output_type": "execute_result"
    }
   ],
   "source": [
    "Human.population"
   ]
  },
  {
   "cell_type": "code",
   "execution_count": 25,
   "id": "94d47e4b",
   "metadata": {},
   "outputs": [
    {
     "data": {
      "text/plain": [
       "'ceo'"
      ]
     },
     "execution_count": 25,
     "metadata": {},
     "output_type": "execute_result"
    }
   ],
   "source": [
    "rohit.post"
   ]
  },
  {
   "cell_type": "code",
   "execution_count": 26,
   "id": "76bf379b",
   "metadata": {},
   "outputs": [
    {
     "data": {
      "text/plain": [
       "True"
      ]
     },
     "execution_count": 26,
     "metadata": {},
     "output_type": "execute_result"
    }
   ],
   "source": [
    "rohit.alive"
   ]
  },
  {
   "cell_type": "code",
   "execution_count": null,
   "id": "cd6e2049",
   "metadata": {},
   "outputs": [],
   "source": []
  },
  {
   "cell_type": "code",
   "execution_count": null,
   "id": "72bb256e",
   "metadata": {},
   "outputs": [],
   "source": []
  },
  {
   "cell_type": "code",
   "execution_count": 27,
   "id": "dc2e7d1d",
   "metadata": {},
   "outputs": [],
   "source": [
    "class Employee(Human):\n",
    "    \n",
    "    # re inititae constructor\n",
    "    def __init__(self,name, age, company, post):\n",
    "        super().__init__(name,age)\n",
    "        \n",
    "        # attribute for employee class\n",
    "        self.company = company\n",
    "        self.post = post\n",
    "    \n",
    "    # Add some attributes\n",
    "    def hire(self, person):\n",
    "        print(f\"{person} has been hired in our company\")\n",
    "        Human.data.append(person)\n",
    "        Human.population += 1"
   ]
  },
  {
   "cell_type": "code",
   "execution_count": 28,
   "id": "34bfe390",
   "metadata": {},
   "outputs": [],
   "source": [
    "ankur = Human('Ankur',25)\n",
    "emma = Human('Emma',32)"
   ]
  },
  {
   "cell_type": "code",
   "execution_count": 29,
   "id": "f1f03e0e",
   "metadata": {},
   "outputs": [
    {
     "data": {
      "text/plain": [
       "8"
      ]
     },
     "execution_count": 29,
     "metadata": {},
     "output_type": "execute_result"
    }
   ],
   "source": [
    "Human.population"
   ]
  },
  {
   "cell_type": "code",
   "execution_count": 31,
   "id": "5149723a",
   "metadata": {},
   "outputs": [
    {
     "data": {
      "text/plain": [
       "['Ankur', 'Emma', 'Ankur', 'Ankur', 'Emma', 'rohit', 'Ankur', 'Emma']"
      ]
     },
     "execution_count": 31,
     "metadata": {},
     "output_type": "execute_result"
    }
   ],
   "source": [
    "Human.data"
   ]
  },
  {
   "cell_type": "code",
   "execution_count": 32,
   "id": "f95a029a",
   "metadata": {},
   "outputs": [],
   "source": [
    "e2 = Employee(\"Employee\", 70, \"XYZ\", \"ZYX\")"
   ]
  },
  {
   "cell_type": "code",
   "execution_count": 33,
   "id": "747c2aa8",
   "metadata": {},
   "outputs": [
    {
     "data": {
      "text/plain": [
       "9"
      ]
     },
     "execution_count": 33,
     "metadata": {},
     "output_type": "execute_result"
    }
   ],
   "source": [
    "Human.population"
   ]
  },
  {
   "cell_type": "code",
   "execution_count": 34,
   "id": "646c1a59",
   "metadata": {},
   "outputs": [
    {
     "name": "stdout",
     "output_type": "stream",
     "text": [
      "Employee is no more in room\n"
     ]
    }
   ],
   "source": [
    "e2.dead()"
   ]
  },
  {
   "cell_type": "code",
   "execution_count": 35,
   "id": "032e9e39",
   "metadata": {},
   "outputs": [
    {
     "data": {
      "text/plain": [
       "8"
      ]
     },
     "execution_count": 35,
     "metadata": {},
     "output_type": "execute_result"
    }
   ],
   "source": [
    "Human.population"
   ]
  },
  {
   "cell_type": "code",
   "execution_count": 36,
   "id": "71fd2a8a",
   "metadata": {},
   "outputs": [
    {
     "name": "stdout",
     "output_type": "stream",
     "text": [
      "This person is already dead\n"
     ]
    }
   ],
   "source": [
    "e2.dead()"
   ]
  },
  {
   "cell_type": "code",
   "execution_count": null,
   "id": "1ea2124d",
   "metadata": {},
   "outputs": [],
   "source": []
  },
  {
   "cell_type": "code",
   "execution_count": null,
   "id": "1992678d",
   "metadata": {},
   "outputs": [],
   "source": []
  },
  {
   "cell_type": "markdown",
   "id": "692a487a",
   "metadata": {},
   "source": [
    "# Polymorphism\n",
    "\n",
    "The word \"Polymorphism\" means having many forms.\n",
    "\n",
    "Same class method can work diffrently for diffrent objects.\n",
    "\n",
    " makesound() ---> meow(cat) and moww(cow)"
   ]
  },
  {
   "cell_type": "markdown",
   "id": "43aa8bdf",
   "metadata": {},
   "source": [
    "# Operator's level polymorphism\n",
    "\n",
    "Same operator can work diffrently for diffrent objects"
   ]
  },
  {
   "cell_type": "code",
   "execution_count": 70,
   "id": "c4ac217f",
   "metadata": {},
   "outputs": [],
   "source": [
    "#adding\n",
    "a = 2\n",
    "b = 4"
   ]
  },
  {
   "cell_type": "code",
   "execution_count": 67,
   "id": "48445619",
   "metadata": {},
   "outputs": [
    {
     "data": {
      "text/plain": [
       "6"
      ]
     },
     "execution_count": 67,
     "metadata": {},
     "output_type": "execute_result"
    }
   ],
   "source": [
    "a+b"
   ]
  },
  {
   "cell_type": "code",
   "execution_count": 69,
   "id": "783df342",
   "metadata": {},
   "outputs": [
    {
     "data": {
      "text/plain": [
       "'22'"
      ]
     },
     "execution_count": 69,
     "metadata": {},
     "output_type": "execute_result"
    }
   ],
   "source": [
    "#concat\n",
    "\"2\"+\"2\""
   ]
  },
  {
   "cell_type": "code",
   "execution_count": 71,
   "id": "06f856a1",
   "metadata": {},
   "outputs": [
    {
     "ename": "TypeError",
     "evalue": "unsupported operand type(s) for +: 'int' and 'str'",
     "output_type": "error",
     "traceback": [
      "\u001b[1;31m---------------------------------------------------------------------------\u001b[0m",
      "\u001b[1;31mTypeError\u001b[0m                                 Traceback (most recent call last)",
      "Cell \u001b[1;32mIn[71], line 1\u001b[0m\n\u001b[1;32m----> 1\u001b[0m \u001b[38;5;241;43m2\u001b[39;49m\u001b[38;5;241;43m+\u001b[39;49m\u001b[38;5;124;43m\"\u001b[39;49m\u001b[38;5;124;43m2\u001b[39;49m\u001b[38;5;124;43m\"\u001b[39;49m\n",
      "\u001b[1;31mTypeError\u001b[0m: unsupported operand type(s) for +: 'int' and 'str'"
     ]
    }
   ],
   "source": [
    "2+\"2\""
   ]
  },
  {
   "cell_type": "code",
   "execution_count": 72,
   "id": "4942c1c7",
   "metadata": {},
   "outputs": [
    {
     "data": {
      "text/plain": [
       "'RahulJhangu'"
      ]
     },
     "execution_count": 72,
     "metadata": {},
     "output_type": "execute_result"
    }
   ],
   "source": [
    "\"Rahul\"+\"Jhangu\""
   ]
  },
  {
   "cell_type": "code",
   "execution_count": 73,
   "id": "6925d007",
   "metadata": {},
   "outputs": [
    {
     "ename": "TypeError",
     "evalue": "unsupported operand type(s) for -: 'str' and 'str'",
     "output_type": "error",
     "traceback": [
      "\u001b[1;31m---------------------------------------------------------------------------\u001b[0m",
      "\u001b[1;31mTypeError\u001b[0m                                 Traceback (most recent call last)",
      "Cell \u001b[1;32mIn[73], line 1\u001b[0m\n\u001b[1;32m----> 1\u001b[0m \u001b[38;5;124;43m\"\u001b[39;49m\u001b[38;5;124;43mRahul\u001b[39;49m\u001b[38;5;124;43m\"\u001b[39;49m\u001b[38;5;241;43m-\u001b[39;49m\u001b[38;5;124;43m\"\u001b[39;49m\u001b[38;5;124;43mJhangu\u001b[39;49m\u001b[38;5;124;43m\"\u001b[39;49m\n",
      "\u001b[1;31mTypeError\u001b[0m: unsupported operand type(s) for -: 'str' and 'str'"
     ]
    }
   ],
   "source": [
    "\"Rahul\"-\"Jhangu\""
   ]
  },
  {
   "cell_type": "code",
   "execution_count": 74,
   "id": "aeb2bdc9",
   "metadata": {},
   "outputs": [
    {
     "data": {
      "text/plain": [
       "4"
      ]
     },
     "execution_count": 74,
     "metadata": {},
     "output_type": "execute_result"
    }
   ],
   "source": [
    "2*2"
   ]
  },
  {
   "cell_type": "code",
   "execution_count": 75,
   "id": "b55f74a3",
   "metadata": {},
   "outputs": [
    {
     "ename": "TypeError",
     "evalue": "can't multiply sequence by non-int of type 'str'",
     "output_type": "error",
     "traceback": [
      "\u001b[1;31m---------------------------------------------------------------------------\u001b[0m",
      "\u001b[1;31mTypeError\u001b[0m                                 Traceback (most recent call last)",
      "Cell \u001b[1;32mIn[75], line 1\u001b[0m\n\u001b[1;32m----> 1\u001b[0m \u001b[38;5;124;43m\"\u001b[39;49m\u001b[38;5;124;43mRahul\u001b[39;49m\u001b[38;5;124;43m\"\u001b[39;49m\u001b[38;5;241;43m*\u001b[39;49m\u001b[38;5;124;43m\"\u001b[39;49m\u001b[38;5;124;43mJhangu\u001b[39;49m\u001b[38;5;124;43m\"\u001b[39;49m\n",
      "\u001b[1;31mTypeError\u001b[0m: can't multiply sequence by non-int of type 'str'"
     ]
    }
   ],
   "source": [
    "\"Rahul\"*\"Jhangu\""
   ]
  },
  {
   "cell_type": "code",
   "execution_count": null,
   "id": "3fb7fa1b",
   "metadata": {},
   "outputs": [],
   "source": []
  },
  {
   "cell_type": "code",
   "execution_count": null,
   "id": "cebd3cce",
   "metadata": {},
   "outputs": [],
   "source": []
  },
  {
   "cell_type": "markdown",
   "id": "6fe931a6",
   "metadata": {},
   "source": [
    "# Function Level Polymorphism\n",
    "Here a same function behaves diffrently"
   ]
  },
  {
   "cell_type": "code",
   "execution_count": 62,
   "id": "f54a7cda",
   "metadata": {},
   "outputs": [],
   "source": [
    "# len\n",
    "# sum\n",
    "# custom"
   ]
  },
  {
   "cell_type": "code",
   "execution_count": 63,
   "id": "c6aff5fe",
   "metadata": {},
   "outputs": [],
   "source": [
    "l = [1,2,3,4]"
   ]
  },
  {
   "cell_type": "code",
   "execution_count": 64,
   "id": "784dd620",
   "metadata": {},
   "outputs": [
    {
     "data": {
      "text/plain": [
       "4"
      ]
     },
     "execution_count": 64,
     "metadata": {},
     "output_type": "execute_result"
    }
   ],
   "source": [
    "len(l)"
   ]
  },
  {
   "cell_type": "code",
   "execution_count": 65,
   "id": "0ac1db15",
   "metadata": {},
   "outputs": [
    {
     "data": {
      "text/plain": [
       "5"
      ]
     },
     "execution_count": 65,
     "metadata": {},
     "output_type": "execute_result"
    }
   ],
   "source": [
    "len(\"Rahul\")"
   ]
  },
  {
   "cell_type": "code",
   "execution_count": null,
   "id": "118917f6",
   "metadata": {},
   "outputs": [],
   "source": []
  },
  {
   "cell_type": "code",
   "execution_count": 42,
   "id": "4925b848",
   "metadata": {},
   "outputs": [
    {
     "data": {
      "text/plain": [
       "10"
      ]
     },
     "execution_count": 42,
     "metadata": {},
     "output_type": "execute_result"
    }
   ],
   "source": [
    "sum(l)"
   ]
  },
  {
   "cell_type": "code",
   "execution_count": null,
   "id": "2b95bf0b",
   "metadata": {},
   "outputs": [],
   "source": []
  },
  {
   "cell_type": "code",
   "execution_count": 45,
   "id": "ed17d567",
   "metadata": {},
   "outputs": [],
   "source": [
    "def mul(*args):\n",
    "    \n",
    "    total = 1\n",
    "    for i in args:\n",
    "        total *= i\n",
    "        \n",
    "    return total"
   ]
  },
  {
   "cell_type": "code",
   "execution_count": 48,
   "id": "2ddad52b",
   "metadata": {},
   "outputs": [
    {
     "data": {
      "text/plain": [
       "240"
      ]
     },
     "execution_count": 48,
     "metadata": {},
     "output_type": "execute_result"
    }
   ],
   "source": [
    "mul(2,3,4,10)"
   ]
  },
  {
   "cell_type": "code",
   "execution_count": null,
   "id": "5b2a6450",
   "metadata": {},
   "outputs": [],
   "source": []
  },
  {
   "cell_type": "code",
   "execution_count": 56,
   "id": "d1b8c899",
   "metadata": {},
   "outputs": [],
   "source": [
    "class Human:\n",
    "    \n",
    "    def speak(self, language):\n",
    "        print(\"I speak\", language)"
   ]
  },
  {
   "cell_type": "code",
   "execution_count": 57,
   "id": "014dd0c3",
   "metadata": {},
   "outputs": [],
   "source": [
    "h1 = Human()"
   ]
  },
  {
   "cell_type": "code",
   "execution_count": 58,
   "id": "91b34575",
   "metadata": {},
   "outputs": [],
   "source": [
    "h2 = Human()"
   ]
  },
  {
   "cell_type": "code",
   "execution_count": 59,
   "id": "689d4291",
   "metadata": {},
   "outputs": [
    {
     "name": "stdout",
     "output_type": "stream",
     "text": [
      "I speak Hindi\n"
     ]
    }
   ],
   "source": [
    "h1.speak(\"Hindi\")"
   ]
  },
  {
   "cell_type": "code",
   "execution_count": 60,
   "id": "3000fede",
   "metadata": {},
   "outputs": [
    {
     "name": "stdout",
     "output_type": "stream",
     "text": [
      "I speak English\n"
     ]
    }
   ],
   "source": [
    "h2.speak(\"English\")"
   ]
  },
  {
   "cell_type": "code",
   "execution_count": 61,
   "id": "b372236b",
   "metadata": {},
   "outputs": [
    {
     "name": "stdout",
     "output_type": "stream",
     "text": [
      "I speak German\n"
     ]
    }
   ],
   "source": [
    "h1.speak(\"German\")"
   ]
  },
  {
   "cell_type": "code",
   "execution_count": null,
   "id": "597cb430",
   "metadata": {},
   "outputs": [],
   "source": []
  }
 ],
 "metadata": {
  "kernelspec": {
   "display_name": "Python 3 (ipykernel)",
   "language": "python",
   "name": "python3"
  },
  "language_info": {
   "codemirror_mode": {
    "name": "ipython",
    "version": 3
   },
   "file_extension": ".py",
   "mimetype": "text/x-python",
   "name": "python",
   "nbconvert_exporter": "python",
   "pygments_lexer": "ipython3",
   "version": "3.11.5"
  }
 },
 "nbformat": 4,
 "nbformat_minor": 5
}
