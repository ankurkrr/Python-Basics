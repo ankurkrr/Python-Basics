{
 "cells": [
  {
   "cell_type": "markdown",
   "id": "e7cd426d",
   "metadata": {},
   "source": [
    "# Sets\n",
    "~Unique collection\n",
    "~Unorderd\n",
    "~Uniindexed\n",
    "~Mutable"
   ]
  },
  {
   "cell_type": "code",
   "execution_count": 2,
   "id": "eee446ee",
   "metadata": {},
   "outputs": [],
   "source": [
    "lst = [1,2,3,4,5,3,5,5,1]"
   ]
  },
  {
   "cell_type": "code",
   "execution_count": 3,
   "id": "541e5783",
   "metadata": {},
   "outputs": [
    {
     "data": {
      "text/plain": [
       "[1, 2, 3, 4, 5, 3, 5, 5, 1]"
      ]
     },
     "execution_count": 3,
     "metadata": {},
     "output_type": "execute_result"
    }
   ],
   "source": [
    "lst"
   ]
  },
  {
   "cell_type": "code",
   "execution_count": null,
   "id": "74c318fd",
   "metadata": {},
   "outputs": [],
   "source": []
  },
  {
   "cell_type": "markdown",
   "id": "6b7a43f5",
   "metadata": {},
   "source": [
    "### Creating set\n",
    "\n",
    "set()\n",
    "\n",
    "set(iterable)"
   ]
  },
  {
   "cell_type": "code",
   "execution_count": 6,
   "id": "b5e196cf",
   "metadata": {},
   "outputs": [
    {
     "data": {
      "text/plain": [
       "dict"
      ]
     },
     "execution_count": 6,
     "metadata": {},
     "output_type": "execute_result"
    }
   ],
   "source": [
    "#empty set\n",
    "s = {}\n",
    "type(s)"
   ]
  },
  {
   "cell_type": "code",
   "execution_count": 7,
   "id": "0f8caec9",
   "metadata": {},
   "outputs": [
    {
     "data": {
      "text/plain": [
       "set"
      ]
     },
     "execution_count": 7,
     "metadata": {},
     "output_type": "execute_result"
    }
   ],
   "source": [
    "s = {()}\n",
    "type(s)"
   ]
  },
  {
   "cell_type": "code",
   "execution_count": 9,
   "id": "aaf1ceff",
   "metadata": {},
   "outputs": [
    {
     "data": {
      "text/plain": [
       "set"
      ]
     },
     "execution_count": 9,
     "metadata": {},
     "output_type": "execute_result"
    }
   ],
   "source": [
    "s = set()\n",
    "type(s)"
   ]
  },
  {
   "cell_type": "code",
   "execution_count": null,
   "id": "75c35ac0",
   "metadata": {},
   "outputs": [],
   "source": []
  },
  {
   "cell_type": "code",
   "execution_count": 10,
   "id": "8c6acbf1",
   "metadata": {},
   "outputs": [],
   "source": [
    "# Non-empty set"
   ]
  },
  {
   "cell_type": "code",
   "execution_count": 11,
   "id": "de78f16c",
   "metadata": {},
   "outputs": [],
   "source": [
    "s = {1,2,4,4,2,3,3,2,2,1}"
   ]
  },
  {
   "cell_type": "code",
   "execution_count": 12,
   "id": "e6879108",
   "metadata": {},
   "outputs": [
    {
     "name": "stdout",
     "output_type": "stream",
     "text": [
      "{1, 2, 3, 4}\n"
     ]
    }
   ],
   "source": [
    "print(s)"
   ]
  },
  {
   "cell_type": "code",
   "execution_count": 13,
   "id": "3495a59f",
   "metadata": {},
   "outputs": [
    {
     "data": {
      "text/plain": [
       "set"
      ]
     },
     "execution_count": 13,
     "metadata": {},
     "output_type": "execute_result"
    }
   ],
   "source": [
    "type(s)"
   ]
  },
  {
   "cell_type": "code",
   "execution_count": null,
   "id": "a7db4625",
   "metadata": {},
   "outputs": [],
   "source": []
  },
  {
   "cell_type": "code",
   "execution_count": 15,
   "id": "d8446f1a",
   "metadata": {},
   "outputs": [
    {
     "data": {
      "text/plain": [
       "set"
      ]
     },
     "execution_count": 15,
     "metadata": {},
     "output_type": "execute_result"
    }
   ],
   "source": [
    "s = set(\"ankur\")\n",
    "type(s)"
   ]
  },
  {
   "cell_type": "code",
   "execution_count": 16,
   "id": "6754465b",
   "metadata": {},
   "outputs": [
    {
     "data": {
      "text/plain": [
       "{'a', 'k', 'n', 'r', 'u'}"
      ]
     },
     "execution_count": 16,
     "metadata": {},
     "output_type": "execute_result"
    }
   ],
   "source": [
    "s"
   ]
  },
  {
   "cell_type": "code",
   "execution_count": null,
   "id": "599027f7",
   "metadata": {},
   "outputs": [],
   "source": []
  },
  {
   "cell_type": "code",
   "execution_count": 17,
   "id": "e96621df",
   "metadata": {},
   "outputs": [],
   "source": [
    "# Iteration"
   ]
  },
  {
   "cell_type": "code",
   "execution_count": 20,
   "id": "c115f31b",
   "metadata": {},
   "outputs": [
    {
     "data": {
      "text/plain": [
       "{'a', 'k', 'n', 'r', 'u'}"
      ]
     },
     "execution_count": 20,
     "metadata": {},
     "output_type": "execute_result"
    }
   ],
   "source": [
    "s"
   ]
  },
  {
   "cell_type": "code",
   "execution_count": 18,
   "id": "2e8d9193",
   "metadata": {},
   "outputs": [
    {
     "ename": "TypeError",
     "evalue": "'set' object is not subscriptable",
     "output_type": "error",
     "traceback": [
      "\u001b[1;31m---------------------------------------------------------------------------\u001b[0m",
      "\u001b[1;31mTypeError\u001b[0m                                 Traceback (most recent call last)",
      "Cell \u001b[1;32mIn[18], line 1\u001b[0m\n\u001b[1;32m----> 1\u001b[0m \u001b[43ms\u001b[49m\u001b[43m[\u001b[49m\u001b[38;5;241;43m0\u001b[39;49m\u001b[43m]\u001b[49m\n",
      "\u001b[1;31mTypeError\u001b[0m: 'set' object is not subscriptable"
     ]
    }
   ],
   "source": [
    "s[0]"
   ]
  },
  {
   "cell_type": "code",
   "execution_count": 19,
   "id": "1f4693cb",
   "metadata": {},
   "outputs": [
    {
     "data": {
      "text/plain": [
       "{'a', 'k', 'n', 'r', 'u'}"
      ]
     },
     "execution_count": 19,
     "metadata": {},
     "output_type": "execute_result"
    }
   ],
   "source": [
    "s"
   ]
  },
  {
   "cell_type": "code",
   "execution_count": 22,
   "id": "5cca6952",
   "metadata": {},
   "outputs": [
    {
     "name": "stdout",
     "output_type": "stream",
     "text": [
      "a\n",
      "k\n",
      "n\n",
      "u\n",
      "r\n"
     ]
    }
   ],
   "source": [
    "for  i in s:\n",
    "    print(i)"
   ]
  },
  {
   "cell_type": "code",
   "execution_count": null,
   "id": "4ac65080",
   "metadata": {},
   "outputs": [],
   "source": []
  },
  {
   "cell_type": "code",
   "execution_count": null,
   "id": "cf38f8a2",
   "metadata": {},
   "outputs": [],
   "source": []
  },
  {
   "cell_type": "markdown",
   "id": "cf915a88",
   "metadata": {},
   "source": [
    "### updating a set\n",
    "\n",
    "add: for single element\n",
    "\n",
    "update(iterable)"
   ]
  },
  {
   "cell_type": "code",
   "execution_count": 25,
   "id": "49c1fe53",
   "metadata": {},
   "outputs": [],
   "source": [
    "s = {1,2,3,3,4,5,6}"
   ]
  },
  {
   "cell_type": "code",
   "execution_count": 26,
   "id": "21ad7a2b",
   "metadata": {},
   "outputs": [
    {
     "data": {
      "text/plain": [
       "{1, 2, 3, 4, 5, 6}"
      ]
     },
     "execution_count": 26,
     "metadata": {},
     "output_type": "execute_result"
    }
   ],
   "source": [
    "s"
   ]
  },
  {
   "cell_type": "code",
   "execution_count": 27,
   "id": "affd554a",
   "metadata": {},
   "outputs": [],
   "source": [
    "s.add(8)\n",
    "s.add(8)\n",
    "s.add(8)\n",
    "s.add(8)"
   ]
  },
  {
   "cell_type": "code",
   "execution_count": 28,
   "id": "202ab099",
   "metadata": {},
   "outputs": [
    {
     "data": {
      "text/plain": [
       "{1, 2, 3, 4, 5, 6, 8}"
      ]
     },
     "execution_count": 28,
     "metadata": {},
     "output_type": "execute_result"
    }
   ],
   "source": [
    "s"
   ]
  },
  {
   "cell_type": "code",
   "execution_count": null,
   "id": "c1970713",
   "metadata": {},
   "outputs": [],
   "source": []
  },
  {
   "cell_type": "code",
   "execution_count": 29,
   "id": "cf7e37a0",
   "metadata": {},
   "outputs": [
    {
     "data": {
      "text/plain": [
       "{1, 2, 3, 4, 5, 6, 8}"
      ]
     },
     "execution_count": 29,
     "metadata": {},
     "output_type": "execute_result"
    }
   ],
   "source": [
    "# update\n",
    "s"
   ]
  },
  {
   "cell_type": "code",
   "execution_count": 30,
   "id": "00034a83",
   "metadata": {},
   "outputs": [],
   "source": [
    "name = \"Rahul\""
   ]
  },
  {
   "cell_type": "code",
   "execution_count": 31,
   "id": "392bf806",
   "metadata": {},
   "outputs": [],
   "source": [
    "s.update(name)"
   ]
  },
  {
   "cell_type": "code",
   "execution_count": 32,
   "id": "723f7ce9",
   "metadata": {},
   "outputs": [
    {
     "data": {
      "text/plain": [
       "{1, 2, 3, 4, 5, 6, 8, 'R', 'a', 'h', 'l', 'u'}"
      ]
     },
     "execution_count": 32,
     "metadata": {},
     "output_type": "execute_result"
    }
   ],
   "source": [
    "s"
   ]
  },
  {
   "cell_type": "code",
   "execution_count": null,
   "id": "b013da60",
   "metadata": {},
   "outputs": [],
   "source": []
  },
  {
   "cell_type": "code",
   "execution_count": null,
   "id": "c4e5efd6",
   "metadata": {},
   "outputs": [],
   "source": []
  },
  {
   "cell_type": "markdown",
   "id": "dad6b7ab",
   "metadata": {},
   "source": [
    "### Delete element\n",
    "\n",
    "pop : removes random element. we are not sure what it is\n",
    "    \n",
    "remove(element): remove particular element"
   ]
  },
  {
   "cell_type": "code",
   "execution_count": 35,
   "id": "c491da4f",
   "metadata": {},
   "outputs": [
    {
     "data": {
      "text/plain": [
       "{1, 2, 3, 4, 5, 6, 8, 'R', 'a', 'h', 'l', 'u'}"
      ]
     },
     "execution_count": 35,
     "metadata": {},
     "output_type": "execute_result"
    }
   ],
   "source": [
    "s"
   ]
  },
  {
   "cell_type": "code",
   "execution_count": 36,
   "id": "8a841ef8",
   "metadata": {},
   "outputs": [
    {
     "data": {
      "text/plain": [
       "1"
      ]
     },
     "execution_count": 36,
     "metadata": {},
     "output_type": "execute_result"
    }
   ],
   "source": [
    "s.pop()"
   ]
  },
  {
   "cell_type": "code",
   "execution_count": 37,
   "id": "9e12fb40",
   "metadata": {},
   "outputs": [
    {
     "data": {
      "text/plain": [
       "2"
      ]
     },
     "execution_count": 37,
     "metadata": {},
     "output_type": "execute_result"
    }
   ],
   "source": [
    "s.pop()"
   ]
  },
  {
   "cell_type": "code",
   "execution_count": 38,
   "id": "e0dcf25a",
   "metadata": {},
   "outputs": [
    {
     "data": {
      "text/plain": [
       "{3, 4, 5, 6, 8, 'R', 'a', 'h', 'l', 'u'}"
      ]
     },
     "execution_count": 38,
     "metadata": {},
     "output_type": "execute_result"
    }
   ],
   "source": [
    "s"
   ]
  },
  {
   "cell_type": "code",
   "execution_count": 40,
   "id": "bb59a112",
   "metadata": {},
   "outputs": [],
   "source": [
    "s.remove(\"R\")"
   ]
  },
  {
   "cell_type": "code",
   "execution_count": 41,
   "id": "284c3bb0",
   "metadata": {},
   "outputs": [
    {
     "data": {
      "text/plain": [
       "{3, 4, 5, 6, 8, 'a', 'h', 'l', 'u'}"
      ]
     },
     "execution_count": 41,
     "metadata": {},
     "output_type": "execute_result"
    }
   ],
   "source": [
    "s"
   ]
  },
  {
   "cell_type": "code",
   "execution_count": 42,
   "id": "d16768fa",
   "metadata": {},
   "outputs": [],
   "source": [
    "a = s.pop()"
   ]
  },
  {
   "cell_type": "code",
   "execution_count": 43,
   "id": "652a2647",
   "metadata": {},
   "outputs": [
    {
     "data": {
      "text/plain": [
       "3"
      ]
     },
     "execution_count": 43,
     "metadata": {},
     "output_type": "execute_result"
    }
   ],
   "source": [
    "a"
   ]
  },
  {
   "cell_type": "code",
   "execution_count": 44,
   "id": "159d28a2",
   "metadata": {},
   "outputs": [],
   "source": [
    "b = s.remove(\"a\")"
   ]
  },
  {
   "cell_type": "code",
   "execution_count": null,
   "id": "ce352a48",
   "metadata": {},
   "outputs": [],
   "source": []
  },
  {
   "cell_type": "markdown",
   "id": "e16582cc",
   "metadata": {},
   "source": [
    "### Intersection\n",
    "\n",
    "Suppose scaler has two courses available for students: Python and Java.\n",
    "\n",
    "You want to find out which students are enrolled in both the Python and Java Courses.\n",
    "Then you can use intersection method."
   ]
  },
  {
   "cell_type": "code",
   "execution_count": 45,
   "id": "f75f240b",
   "metadata": {},
   "outputs": [],
   "source": [
    "# we are taking names instead of unique IDs for ease of understanding"
   ]
  },
  {
   "cell_type": "code",
   "execution_count": 49,
   "id": "fbd0adb5",
   "metadata": {},
   "outputs": [],
   "source": [
    "python = {\"Iron man\",\"Hulk\", \"Spidy\", \"Ankur\",\"Ant man\"}\n",
    "java = {\"Iron man\", \"Harry potter\", \"Ant man\"}"
   ]
  },
  {
   "cell_type": "code",
   "execution_count": 50,
   "id": "6efd8749",
   "metadata": {},
   "outputs": [
    {
     "data": {
      "text/plain": [
       "{'Ant man', 'Iron man'}"
      ]
     },
     "execution_count": 50,
     "metadata": {},
     "output_type": "execute_result"
    }
   ],
   "source": [
    "python.intersection(java)"
   ]
  },
  {
   "cell_type": "code",
   "execution_count": 51,
   "id": "b811f4b6",
   "metadata": {},
   "outputs": [
    {
     "data": {
      "text/plain": [
       "{'Ant man', 'Iron man'}"
      ]
     },
     "execution_count": 51,
     "metadata": {},
     "output_type": "execute_result"
    }
   ],
   "source": [
    "java.intersection(python)"
   ]
  },
  {
   "cell_type": "code",
   "execution_count": null,
   "id": "7337948e",
   "metadata": {},
   "outputs": [],
   "source": []
  },
  {
   "cell_type": "markdown",
   "id": "8913d635",
   "metadata": {},
   "source": [
    "#  uninon\n",
    "suppose You want to find out which students are enrolled in either python or java or in both. then You can use the union method"
   ]
  },
  {
   "cell_type": "code",
   "execution_count": 52,
   "id": "abfb76d4",
   "metadata": {},
   "outputs": [],
   "source": [
    "python = {\"Iron man\",\"Hulk\", \"Spidy\", \"Ankur\",\"Ant man\"}\n",
    "java = {\"Iron man\", \"Harry potter\", \"Ant man\"}"
   ]
  },
  {
   "cell_type": "code",
   "execution_count": 53,
   "id": "0d93a19f",
   "metadata": {},
   "outputs": [
    {
     "data": {
      "text/plain": [
       "{'Ankur', 'Ant man', 'Harry potter', 'Hulk', 'Iron man', 'Spidy'}"
      ]
     },
     "execution_count": 53,
     "metadata": {},
     "output_type": "execute_result"
    }
   ],
   "source": [
    "python.union(java)"
   ]
  },
  {
   "cell_type": "code",
   "execution_count": null,
   "id": "9e6dcfe4",
   "metadata": {},
   "outputs": [],
   "source": []
  },
  {
   "cell_type": "markdown",
   "id": "f2b34bbe",
   "metadata": {},
   "source": [
    "# Diffrence\n",
    "Suppose you want to find out the set of students who have enrolled int the python course but not in java course or vice versa then we can use the diffrence method."
   ]
  },
  {
   "cell_type": "code",
   "execution_count": 2,
   "id": "48d6b12b",
   "metadata": {},
   "outputs": [],
   "source": [
    "python = {\"Iron man\",\"Hulk\", \"Spidy\", \"Ankur\",\"Ant man\"}\n",
    "java = {\"Iron man\", \"Harry potter\", \"Ant man\"}"
   ]
  },
  {
   "cell_type": "code",
   "execution_count": 3,
   "id": "a1467f4d",
   "metadata": {},
   "outputs": [
    {
     "data": {
      "text/plain": [
       "{'Ankur', 'Hulk', 'Spidy'}"
      ]
     },
     "execution_count": 3,
     "metadata": {},
     "output_type": "execute_result"
    }
   ],
   "source": [
    "python.difference(java)"
   ]
  },
  {
   "cell_type": "code",
   "execution_count": 4,
   "id": "7481d669",
   "metadata": {},
   "outputs": [
    {
     "data": {
      "text/plain": [
       "{'Harry potter'}"
      ]
     },
     "execution_count": 4,
     "metadata": {},
     "output_type": "execute_result"
    }
   ],
   "source": [
    "java.difference(python)"
   ]
  },
  {
   "cell_type": "code",
   "execution_count": null,
   "id": "4aa3d94b",
   "metadata": {},
   "outputs": [],
   "source": []
  },
  {
   "cell_type": "code",
   "execution_count": null,
   "id": "767dfea9",
   "metadata": {},
   "outputs": [],
   "source": []
  },
  {
   "cell_type": "markdown",
   "id": "068a71de",
   "metadata": {},
   "source": [
    "# Challenge: #Count the number of unique elements in a sentence"
   ]
  },
  {
   "cell_type": "code",
   "execution_count": 5,
   "id": "5431838e",
   "metadata": {},
   "outputs": [],
   "source": [
    "sent = \"be the change you wish to see in the world\""
   ]
  },
  {
   "cell_type": "code",
   "execution_count": 8,
   "id": "01f6c62f",
   "metadata": {},
   "outputs": [
    {
     "data": {
      "text/plain": [
       "['be', 'the', 'change', 'you', 'wish', 'to', 'see', 'in', 'the', 'world']"
      ]
     },
     "execution_count": 8,
     "metadata": {},
     "output_type": "execute_result"
    }
   ],
   "source": [
    "lst =sent.split()\n",
    "lst"
   ]
  },
  {
   "cell_type": "code",
   "execution_count": 6,
   "id": "5c3c8149",
   "metadata": {},
   "outputs": [],
   "source": [
    "s = set(sent)"
   ]
  },
  {
   "cell_type": "code",
   "execution_count": 7,
   "id": "91fe063a",
   "metadata": {},
   "outputs": [
    {
     "data": {
      "text/plain": [
       "{' ',\n",
       " 'a',\n",
       " 'b',\n",
       " 'c',\n",
       " 'd',\n",
       " 'e',\n",
       " 'g',\n",
       " 'h',\n",
       " 'i',\n",
       " 'l',\n",
       " 'n',\n",
       " 'o',\n",
       " 'r',\n",
       " 's',\n",
       " 't',\n",
       " 'u',\n",
       " 'w',\n",
       " 'y'}"
      ]
     },
     "execution_count": 7,
     "metadata": {},
     "output_type": "execute_result"
    }
   ],
   "source": [
    "s"
   ]
  },
  {
   "cell_type": "code",
   "execution_count": 10,
   "id": "d6c0b2db",
   "metadata": {},
   "outputs": [],
   "source": [
    "s = set(lst)"
   ]
  },
  {
   "cell_type": "code",
   "execution_count": null,
   "id": "c5e83069",
   "metadata": {},
   "outputs": [],
   "source": []
  }
 ],
 "metadata": {
  "kernelspec": {
   "display_name": "Python 3 (ipykernel)",
   "language": "python",
   "name": "python3"
  },
  "language_info": {
   "codemirror_mode": {
    "name": "ipython",
    "version": 3
   },
   "file_extension": ".py",
   "mimetype": "text/x-python",
   "name": "python",
   "nbconvert_exporter": "python",
   "pygments_lexer": "ipython3",
   "version": "3.11.5"
  }
 },
 "nbformat": 4,
 "nbformat_minor": 5
}
